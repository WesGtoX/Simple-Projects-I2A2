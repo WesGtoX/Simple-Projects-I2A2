{
 "cells": [
  {
   "cell_type": "code",
   "execution_count": 4,
   "metadata": {},
   "outputs": [
    {
     "name": "stdout",
     "output_type": "stream",
     "text": [
      "False\n",
      "1\n",
      "2\n",
      "3\n",
      "A soma de x e y é igual a 3\n"
     ]
    }
   ],
   "source": [
    "class calcValor():\n",
    "    def __init__(self,x,y):\n",
    "        self.x = x\n",
    "        self.y = y\n",
    "\n",
    "    def getx(self):\n",
    "        return self.x\n",
    "\n",
    "    def gety(self):\n",
    "        return self.y\n",
    "    \n",
    "    def getsoma(self):\n",
    "        return p.getx() + p.gety()\n",
    "\n",
    "    def __str__(self):\n",
    "        return ('A soma de x e y é igual a '+str(self.getsoma()))\n",
    "\n",
    "p = calcValor(1,2)\n",
    "q = calcValor(1,2)\n",
    "\n",
    "print(p is q)\n",
    "print(p.getx())\n",
    "print(p.gety())\n",
    "print(p.getsoma())\n",
    "\n",
    "print(p)"
   ]
  },
  {
   "cell_type": "code",
   "execution_count": null,
   "metadata": {},
   "outputs": [],
   "source": []
  }
 ],
 "metadata": {
  "kernelspec": {
   "display_name": "Python 3",
   "language": "python",
   "name": "python3"
  },
  "language_info": {
   "codemirror_mode": {
    "name": "ipython",
    "version": 3
   },
   "file_extension": ".py",
   "mimetype": "text/x-python",
   "name": "python",
   "nbconvert_exporter": "python",
   "pygments_lexer": "ipython3",
   "version": "3.6.4"
  }
 },
 "nbformat": 4,
 "nbformat_minor": 2
}
