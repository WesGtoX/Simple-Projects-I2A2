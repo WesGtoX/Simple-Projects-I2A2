{
 "cells": [
  {
   "cell_type": "code",
   "execution_count": 22,
   "metadata": {},
   "outputs": [
    {
     "name": "stdout",
     "output_type": "stream",
     "text": [
      "0.0072386870618228105 3.9403675377097955\n",
      "[[730.   1.]\n",
      " [880.   1.]\n",
      " [505.   1.]\n",
      " [529.   1.]\n",
      " [872.   1.]\n",
      " [907.   1.]\n",
      " [926.   1.]\n",
      " [679.   1.]\n",
      " [452.   1.]]\n",
      "\n"
     ]
    }
   ],
   "source": [
    "# Resposta do exercício 4\n",
    "import numpy as np\n",
    "import matplotlib\n",
    "import matplotlib.pyplot as plt\n",
    "\n",
    "class previsao():\n",
    "    def __init__(self,x,y):\n",
    "        mes = ['jan', 'fev', 'mar', 'abr', 'mai', 'jun','jul', 'ago', 'set']\n",
    "        client = [730,880,505,529,872,907,926,679,452]\n",
    "        vend = [9.85,10.20,6.44,7.07,9.91,11.20,11.03,7.24,9.43]\n",
    "        \n",
    "        x = np.array(client)\n",
    "        y = np.array(vend)\n",
    "        A = np.vstack([x, np.ones(len(x))]).T\n",
    "        m, c = np.linalg.lstsq(A, y)[0]\n",
    "\n",
    "        return (m,c,A)\n",
    "        return (A)\n",
    "    \n",
    "        plt.plot(x,y, 'o', label='Amostra')\n",
    "        plt.plot(x, m*x + c, 'r', label='reta')\n",
    "        plt.legend()\n",
    "        plt.show()\n",
    "\n",
    "    def __prev__(self):\n",
    "        return ('Previsão Outubro(K)-> '+str(m*500+c))\n",
    "        return ('Previsão Novembro(K) -> '+str(m*750+c))\n",
    "        return ('Previsão Dezembro(K) -> '+str(m*1000+c))\n",
    "\n",
    "print(m,c)\n",
    "print(A)\n",
    "print()"
   ]
  }
 ],
 "metadata": {
  "kernelspec": {
   "display_name": "Python 3",
   "language": "python",
   "name": "python3"
  },
  "language_info": {
   "codemirror_mode": {
    "name": "ipython",
    "version": 3
   },
   "file_extension": ".py",
   "mimetype": "text/x-python",
   "name": "python",
   "nbconvert_exporter": "python",
   "pygments_lexer": "ipython3",
   "version": "3.6.4"
  }
 },
 "nbformat": 4,
 "nbformat_minor": 2
}
