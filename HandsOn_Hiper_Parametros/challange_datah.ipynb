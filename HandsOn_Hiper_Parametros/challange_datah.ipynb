{
  "nbformat": 4,
  "nbformat_minor": 0,
  "metadata": {
    "colab": {
      "name": "Challenge CNN.ipynb",
      "version": "0.3.2",
      "views": {},
      "default_view": {},
      "provenance": []
    },
    "kernelspec": {
      "display_name": "Python 3",
      "language": "python",
      "name": "python3"
    },
    "accelerator": "GPU"
  },
  "cells": [
    {
      "metadata": {
        "id": "z7asZbRN0mqM",
        "colab_type": "text"
      },
      "cell_type": "markdown",
      "source": [
        "# Desafio CNN \n",
        "\n",
        "> ## Instalando o Keras e o URLLib"
      ]
    },
    {
      "metadata": {
        "id": "VW5-09fG0WeT",
        "colab_type": "code",
        "colab": {
          "autoexec": {
            "startup": false,
            "wait_interval": 0
          },
          "base_uri": "https://localhost:8080/",
          "height": 153
        },
        "outputId": "b0a2fa59-ee99-4f3c-ee4b-f9168198aa55",
        "executionInfo": {
          "status": "ok",
          "timestamp": 1523575362852,
          "user_tz": 180,
          "elapsed": 6140,
          "user": {
            "displayName": "Marcelo Piovan",
            "photoUrl": "//lh3.googleusercontent.com/-1kocnuiw9tM/AAAAAAAAAAI/AAAAAAAAAaM/PNGlBGhV92Q/s50-c-k-no/photo.jpg",
            "userId": "109344316316211163977"
          }
        }
      },
      "cell_type": "code",
      "source": [
        "!pip install keras\n",
        "!pip install urllib"
      ],
      "execution_count": 1,
      "outputs": [
        {
          "output_type": "stream",
          "text": [
            "Requirement already satisfied: keras in /usr/local/lib/python3.6/dist-packages\r\n",
            "Requirement already satisfied: numpy>=1.9.1 in /usr/local/lib/python3.6/dist-packages (from keras)\r\n",
            "Requirement already satisfied: six>=1.9.0 in /usr/local/lib/python3.6/dist-packages (from keras)\r\n",
            "Requirement already satisfied: scipy>=0.14 in /usr/local/lib/python3.6/dist-packages (from keras)\r\n",
            "Requirement already satisfied: pyyaml in /usr/local/lib/python3.6/dist-packages (from keras)\n",
            "Collecting urllib\n",
            "\u001b[31m  Could not find a version that satisfies the requirement urllib (from versions: )\u001b[0m\n",
            "\u001b[31mNo matching distribution found for urllib\u001b[0m\n"
          ],
          "name": "stdout"
        }
      ]
    },
    {
      "metadata": {
        "id": "m765RkxI0rs1",
        "colab_type": "text"
      },
      "cell_type": "markdown",
      "source": [
        "> ## Importando as bibliotecas da CNN"
      ]
    },
    {
      "metadata": {
        "id": "H_Ig0SoMdKKh",
        "colab_type": "code",
        "colab": {
          "autoexec": {
            "startup": false,
            "wait_interval": 0
          },
          "base_uri": "https://localhost:8080/",
          "height": 34
        },
        "outputId": "500c0f6b-ecd4-4cab-b5f0-9e57a9007f34",
        "executionInfo": {
          "status": "ok",
          "timestamp": 1523575387964,
          "user_tz": 180,
          "elapsed": 7838,
          "user": {
            "displayName": "Marcelo Piovan",
            "photoUrl": "//lh3.googleusercontent.com/-1kocnuiw9tM/AAAAAAAAAAI/AAAAAAAAAaM/PNGlBGhV92Q/s50-c-k-no/photo.jpg",
            "userId": "109344316316211163977"
          }
        }
      },
      "cell_type": "code",
      "source": [
        "import keras\n",
        "from keras.models import Model\n",
        "from keras.layers import *\n",
        "from keras.optimizers import *\n",
        "from google.colab import files\n",
        "\n",
        "import urllib.request\n",
        "\n",
        "import h5py\n",
        "\n",
        "from sklearn.model_selection import train_test_split\n",
        "\n",
        "import matplotlib.pyplot as plt"
      ],
      "execution_count": 2,
      "outputs": [
        {
          "output_type": "stream",
          "text": [
            "Using TensorFlow backend.\n"
          ],
          "name": "stderr"
        }
      ]
    },
    {
      "metadata": {
        "id": "1mbt34Pw04pe",
        "colab_type": "text"
      },
      "cell_type": "markdown",
      "source": [
        "> ## Fazendo o download do dataset para o colaboratory"
      ]
    },
    {
      "metadata": {
        "id": "NzQEgnGkwBTx",
        "colab_type": "code",
        "colab": {
          "autoexec": {
            "startup": false,
            "wait_interval": 0
          },
          "base_uri": "https://localhost:8080/",
          "height": 34
        },
        "outputId": "443b0f5d-5213-4f02-8be9-6303eb04076d",
        "executionInfo": {
          "status": "ok",
          "timestamp": 1523575492755,
          "user_tz": 180,
          "elapsed": 41023,
          "user": {
            "displayName": "Marcelo Piovan",
            "photoUrl": "//lh3.googleusercontent.com/-1kocnuiw9tM/AAAAAAAAAAI/AAAAAAAAAaM/PNGlBGhV92Q/s50-c-k-no/photo.jpg",
            "userId": "109344316316211163977"
          }
        }
      },
      "cell_type": "code",
      "source": [
        "urllib.request.urlretrieve(\"http://infra.heurys.com.br:8080/files/dataset.zip\", \"dataset.h5\")"
      ],
      "execution_count": 3,
      "outputs": [
        {
          "output_type": "execute_result",
          "data": {
            "text/plain": [
              "('dataset.h5', <http.client.HTTPMessage at 0x7f486a16ec50>)"
            ]
          },
          "metadata": {
            "tags": []
          },
          "execution_count": 3
        }
      ]
    },
    {
      "metadata": {
        "id": "wT4N24p_1BW1",
        "colab_type": "text"
      },
      "cell_type": "markdown",
      "source": [
        "> ## Carregando o dataset para as variáveis (20% para teste e 80% para treinamento)"
      ]
    },
    {
      "metadata": {
        "id": "gvdfLykldKKm",
        "colab_type": "code",
        "colab": {
          "autoexec": {
            "startup": false,
            "wait_interval": 0
          }
        }
      },
      "cell_type": "code",
      "source": [
        "with h5py.File('dataset.h5','r') as hf:\n",
        "    X = hf['X'][:]\n",
        "    y = hf['y'][:]\n",
        "    X_test = hf['X_test'][:]\n",
        "    \n",
        "X_train, X_val, y_train, y_val = train_test_split(X, y, test_size=0.20, random_state=42)"
      ],
      "execution_count": 0,
      "outputs": []
    },
    {
      "metadata": {
        "id": "n9ETVQCK1XW4",
        "colab_type": "text"
      },
      "cell_type": "markdown",
      "source": [
        "> ## Normalizando os dados "
      ]
    },
    {
      "metadata": {
        "id": "2TJXS-3FdKKu",
        "colab_type": "code",
        "colab": {
          "autoexec": {
            "startup": false,
            "wait_interval": 0
          }
        }
      },
      "cell_type": "code",
      "source": [
        "X_train = X_train.astype('float32')\n",
        "X_val = X_val.astype('float32')\n",
        "X_test = X_test.astype('float32')\n",
        "\n",
        "X_train /= 255\n",
        "X_val  /= 255\n",
        "X_test /= 255\n",
        "\n",
        "X_train = X_train.reshape(-1,256,256,1)\n",
        "X_val = X_val.reshape(-1,256,256,1)\n",
        "X_test = X_test.reshape(-1,256,256,1)"
      ],
      "execution_count": 0,
      "outputs": []
    },
    {
      "metadata": {
        "id": "pSCl0ezL1eue",
        "colab_type": "text"
      },
      "cell_type": "markdown",
      "source": [
        "> ## Definição da CNN"
      ]
    },
    {
      "metadata": {
        "id": "uW5X6D33dKKy",
        "colab_type": "code",
        "colab": {
          "autoexec": {
            "startup": false,
            "wait_interval": 0
          },
          "base_uri": "https://localhost:8080/",
          "height": 340
        },
        "outputId": "6154be15-43b6-467c-f3d5-27f2a9b8a799",
        "executionInfo": {
          "status": "ok",
          "timestamp": 1523576216337,
          "user_tz": 180,
          "elapsed": 627,
          "user": {
            "displayName": "Marcelo Piovan",
            "photoUrl": "//lh3.googleusercontent.com/-1kocnuiw9tM/AAAAAAAAAAI/AAAAAAAAAaM/PNGlBGhV92Q/s50-c-k-no/photo.jpg",
            "userId": "109344316316211163977"
          }
        }
      },
      "cell_type": "code",
      "source": [
        "inputs = Input((256, 256,1))\n",
        "\n",
        "Conv = Conv2D(1, kernel_size=(3,3), strides=(5, 5), padding='same', activation='linear')(inputs)\n",
        "Conv = Conv2D(1, kernel_size=(3,3), strides=(5, 5), padding='same', activation='linear')(Conv)\n",
        "\n",
        "flat = Flatten()(Conv)\n",
        "\n",
        "dense = Dense(2,activation = 'tanh')(flat)\n",
        "dense = Dense(1, activation = 'sigmoid')(dense)\n",
        "\n",
        "model = Model(inputs, dense)\n",
        "model.compile(loss='mean_squared_error',optimizer=SGD(lr=4.0), metrics=['acc'])\n",
        "model.summary()"
      ],
      "execution_count": 23,
      "outputs": [
        {
          "output_type": "stream",
          "text": [
            "_________________________________________________________________\n",
            "Layer (type)                 Output Shape              Param #   \n",
            "=================================================================\n",
            "input_2 (InputLayer)         (None, 256, 256, 1)       0         \n",
            "_________________________________________________________________\n",
            "conv2d_3 (Conv2D)            (None, 52, 52, 1)         10        \n",
            "_________________________________________________________________\n",
            "conv2d_4 (Conv2D)            (None, 11, 11, 1)         10        \n",
            "_________________________________________________________________\n",
            "flatten_2 (Flatten)          (None, 121)               0         \n",
            "_________________________________________________________________\n",
            "dense_3 (Dense)              (None, 2)                 244       \n",
            "_________________________________________________________________\n",
            "dense_4 (Dense)              (None, 1)                 3         \n",
            "=================================================================\n",
            "Total params: 267\n",
            "Trainable params: 267\n",
            "Non-trainable params: 0\n",
            "_________________________________________________________________\n"
          ],
          "name": "stdout"
        }
      ]
    },
    {
      "metadata": {
        "id": "XmhS7MAY1n04",
        "colab_type": "text"
      },
      "cell_type": "markdown",
      "source": [
        "> ## Treinamento da CNN"
      ]
    },
    {
      "metadata": {
        "id": "iFRBCfuPdKK5",
        "colab_type": "code",
        "colab": {
          "autoexec": {
            "startup": false,
            "wait_interval": 0
          },
          "base_uri": "https://localhost:8080/",
          "height": 374
        },
        "outputId": "af087bd0-39b8-4bfe-c2df-cec9ab32e326",
        "executionInfo": {
          "status": "ok",
          "timestamp": 1523576252669,
          "user_tz": 180,
          "elapsed": 853,
          "user": {
            "displayName": "Marcelo Piovan",
            "photoUrl": "//lh3.googleusercontent.com/-1kocnuiw9tM/AAAAAAAAAAI/AAAAAAAAAaM/PNGlBGhV92Q/s50-c-k-no/photo.jpg",
            "userId": "109344316316211163977"
          }
        }
      },
      "cell_type": "code",
      "source": [
        "history = model.fit(X_train, y_train,\n",
        "          batch_size=128,\n",
        "          epochs=10,\n",
        "          verbose=1,\n",
        "          validation_data=(X_val, y_val))"
      ],
      "execution_count": 26,
      "outputs": [
        {
          "output_type": "stream",
          "text": [
            "Train on 120 samples, validate on 30 samples\n",
            "Epoch 1/10\n",
            "120/120 [==============================] - 0s 303us/step - loss: 0.2497 - acc: 0.5167 - val_loss: 0.2503 - val_acc: 0.5000\n",
            "Epoch 2/10\n",
            "120/120 [==============================] - 0s 292us/step - loss: 0.2497 - acc: 0.5167 - val_loss: 0.2503 - val_acc: 0.5000\n",
            "Epoch 3/10\n",
            "120/120 [==============================] - 0s 292us/step - loss: 0.2497 - acc: 0.5167 - val_loss: 0.2503 - val_acc: 0.5000\n",
            "Epoch 4/10\n",
            "120/120 [==============================] - 0s 305us/step - loss: 0.2497 - acc: 0.5167 - val_loss: 0.2503 - val_acc: 0.5000\n",
            "Epoch 5/10\n",
            "120/120 [==============================] - 0s 283us/step - loss: 0.2497 - acc: 0.5167 - val_loss: 0.2503 - val_acc: 0.5000\n",
            "Epoch 6/10\n",
            "120/120 [==============================] - 0s 307us/step - loss: 0.2497 - acc: 0.5167 - val_loss: 0.2503 - val_acc: 0.5000\n",
            "Epoch 7/10\n",
            "120/120 [==============================] - 0s 356us/step - loss: 0.2497 - acc: 0.5167 - val_loss: 0.2503 - val_acc: 0.5000\n",
            "Epoch 8/10\n",
            "120/120 [==============================] - 0s 281us/step - loss: 0.2497 - acc: 0.5167 - val_loss: 0.2503 - val_acc: 0.5000\n",
            "Epoch 9/10\n",
            "120/120 [==============================] - 0s 302us/step - loss: 0.2497 - acc: 0.5167 - val_loss: 0.2503 - val_acc: 0.5000\n",
            "Epoch 10/10\n",
            "120/120 [==============================] - 0s 282us/step - loss: 0.2497 - acc: 0.5167 - val_loss: 0.2503 - val_acc: 0.5000\n"
          ],
          "name": "stdout"
        }
      ]
    },
    {
      "metadata": {
        "id": "QMfUH20zdKK-",
        "colab_type": "text"
      },
      "cell_type": "markdown",
      "source": [
        "> ## Exibe o gráfico de erro e acurácia"
      ]
    },
    {
      "metadata": {
        "id": "1Mowqm7UdKLA",
        "colab_type": "code",
        "colab": {
          "autoexec": {
            "startup": false,
            "wait_interval": 0
          },
          "base_uri": "https://localhost:8080/",
          "height": 761
        },
        "outputId": "84357862-9ba0-49dc-cef6-c95dd6cc9859",
        "executionInfo": {
          "status": "ok",
          "timestamp": 1523576269547,
          "user_tz": 180,
          "elapsed": 912,
          "user": {
            "displayName": "Marcelo Piovan",
            "photoUrl": "//lh3.googleusercontent.com/-1kocnuiw9tM/AAAAAAAAAAI/AAAAAAAAAaM/PNGlBGhV92Q/s50-c-k-no/photo.jpg",
            "userId": "109344316316211163977"
          }
        }
      },
      "cell_type": "code",
      "source": [
        "plt.plot(history.history['acc'])\n",
        "plt.plot(history.history['val_acc'])\n",
        "plt.ylabel('acurácia')\n",
        "plt.xlabel('época')\n",
        "plt.legend(['treino', 'teste'], loc='upper left')\n",
        "plt.show()\n",
        "\n",
        "plt.plot(history.history['loss'])\n",
        "plt.plot(history.history['val_loss'])\n",
        "plt.ylabel('loss')\n",
        "plt.xlabel('época')\n",
        "plt.legend(['treino', 'teste'], loc='upper left')\n",
        "plt.show()\n",
        "\n",
        "train_score = model.evaluate(X_train, y_train, verbose=0)\n",
        "val_score = model.evaluate(X_val, y_val, verbose=0)\n",
        "print('---- Summary ----')\n",
        "print('train loss.....:', train_score[0].round(10), 'train accuracy.....:', train_score[1].round(10))\n",
        "print('validation loss:', val_score[0].round(10),   'validation accuracy:', val_score[1].round(10))\n"
      ],
      "execution_count": 28,
      "outputs": [
        {
          "output_type": "display_data",
          "data": {
            "image/png": "[encoded data removed]",
            "text/plain": [
              "<matplotlib.figure.Figure at 0x7f4831b591d0>"
            ]
          },
          "metadata": {
            "tags": []
          }
        },
        {
          "output_type": "display_data",
          "data": {
            "image/png": "[encoded data removed]",
            "text/plain": [
              "<matplotlib.figure.Figure at 0x7f483481feb8>"
            ]
          },
          "metadata": {
            "tags": []
          }
        },
        {
          "output_type": "stream",
          "text": [
            "---- Summary ----\n",
            "train loss.....: 0.2497197499 train accuracy.....: 0.5166666706\n",
            "validation loss: 0.2502780557 validation accuracy: 0.5\n"
          ],
          "name": "stdout"
        }
      ]
    },
    {
      "metadata": {
        "id": "r3G98Eh9dKLH",
        "colab_type": "text"
      },
      "cell_type": "markdown",
      "source": [
        "> ## Resultado da rede (Salvar o conteúdo em um arquivo csv e enviar para avaliação) - Serão apenas 3 tentativas consideradas"
      ]
    },
    {
      "metadata": {
        "id": "fYFhhv3kdKLI",
        "colab_type": "code",
        "colab": {
          "autoexec": {
            "startup": false,
            "wait_interval": 0
          }
        }
      },
      "cell_type": "code",
      "source": [
        "pred = model.predict(X_test)\n",
        "np.savetxt('result.csv', pred)\n",
        "files.download('result.csv')\n"
      ],
      "execution_count": 0,
      "outputs": []
    }
  ]
}