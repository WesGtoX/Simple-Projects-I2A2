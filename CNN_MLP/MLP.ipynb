{
 "cells": [
  {
   "cell_type": "markdown",
   "metadata": {},
   "source": [
    "# MLP"
   ]
  },
  {
   "cell_type": "code",
   "execution_count": 217,
   "metadata": {},
   "outputs": [],
   "source": [
    "import numpy as np"
   ]
  },
  {
   "cell_type": "markdown",
   "metadata": {},
   "source": [
    "# Calculating the hidden layer (H)"
   ]
  },
  {
   "cell_type": "code",
   "execution_count": 218,
   "metadata": {},
   "outputs": [],
   "source": [
    "# Entry\n",
    "x = [0.05,0.10]\n",
    "\n",
    "# Weights\n",
    "w = [0.15,0.20,0.25,0.30,0.40,0.45,0.50,0.55]\n",
    "\n",
    "# Bias\n",
    "b = [0.35,0.60]\n",
    "\n",
    "# Learning rate\n",
    "n = 0.50"
   ]
  },
  {
   "cell_type": "code",
   "execution_count": 219,
   "metadata": {},
   "outputs": [
    {
     "name": "stdout",
     "output_type": "stream",
     "text": [
      "Entry NET H¹:  0.3775 \n",
      "Entry NET H²:  0.39249999999999996\n"
     ]
    }
   ],
   "source": [
    "# Propagation of entries\n",
    "net_h = [(x[0] * w[0] + x[1] * w[1] + b[0] * 1),\n",
    "         (x[0] * w[2] + x[1] * w[3] + b[0] * 1)]\n",
    "\n",
    "print(\"Entry NET H¹: \",net_h[0],\"\\nEntry NET H²: \",net_h[1])"
   ]
  },
  {
   "cell_type": "code",
   "execution_count": 220,
   "metadata": {},
   "outputs": [
    {
     "name": "stdout",
     "output_type": "stream",
     "text": [
      "Hidden H¹:  0.5932699921071872 \n",
      "Hidden H²:  0.596884378259767\n"
     ]
    }
   ],
   "source": [
    "# Applying activation function\n",
    "g_h = [(1 / (1 + np.exp(-net_h[0]))),\n",
    "       (1 / (1 + np.exp(-net_h[1])))]\n",
    "\n",
    "print(\"Hidden H¹: \",g_h[0],\"\\nHidden H²: \",g_h[1])"
   ]
  },
  {
   "cell_type": "markdown",
   "metadata": {},
   "source": [
    "# Calculating the output layer (O)"
   ]
  },
  {
   "cell_type": "code",
   "execution_count": 221,
   "metadata": {},
   "outputs": [
    {
     "name": "stdout",
     "output_type": "stream",
     "text": [
      "Entry NET O¹:  1.10590596705977 \n",
      "Entry NET O²:  1.2249214040964653\n"
     ]
    }
   ],
   "source": [
    "# Propagation of entries\n",
    "net_o = [(g_h[0] * w[4] + g_h[1] * w[5] + b[1] * 1),\n",
    "         (g_h[0] * w[6] + g_h[1] * w[7] + b[1] * 1)]\n",
    "\n",
    "print(\"Entry NET O¹: \",net_o[0],\"\\nEntry NET O²: \",net_o[1])"
   ]
  },
  {
   "cell_type": "code",
   "execution_count": 222,
   "metadata": {},
   "outputs": [
    {
     "name": "stdout",
     "output_type": "stream",
     "text": [
      "Activation Func H¹:  0.5932699921071872 \n",
      "Activation Func H²:  0.596884378259767\n"
     ]
    }
   ],
   "source": [
    "# Applying activation function\n",
    "# Output layer\n",
    "g_o = [(1 / (1 + np.exp(-net_o[0]))),\n",
    "       (1 / (1 + np.exp(-net_o[1])))]\n",
    "\n",
    "print(\"Activation Func H¹: \",g_h[0],\"\\nActivation Func H²: \",g_h[1])"
   ]
  },
  {
   "cell_type": "markdown",
   "metadata": {},
   "source": [
    "# Calculating errors"
   ]
  },
  {
   "cell_type": "code",
   "execution_count": 223,
   "metadata": {},
   "outputs": [
    {
     "name": "stdout",
     "output_type": "stream",
     "text": [
      "0.274811083176155\n",
      "0.023560025583847746\n"
     ]
    }
   ],
   "source": [
    "# Expected entry\n",
    "d = [0.01,0.99]\n",
    "\n",
    "# Error total\n",
    "erro_total = (((1 / 2) * (d[0] - g_o[0])**2) + ((1 / 2) * (d[1] - g_o[1])**2))\n",
    "\n",
    "# Error output\n",
    "erro_o = [((1 / 2) * (d[0] - g_o[0])**2),\n",
    "          ((1 / 2) * (d[1] - g_o[1])**2)]\n",
    "\n",
    "print(erro_o[0])\n",
    "print(erro_o[1])"
   ]
  },
  {
   "cell_type": "code",
   "execution_count": 224,
   "metadata": {},
   "outputs": [
    {
     "name": "stdout",
     "output_type": "stream",
     "text": [
      "0.13849856162855698\n",
      "-0.03809823651655623\n"
     ]
    }
   ],
   "source": [
    "# Updating the output layer weights (Back Propagation)\n",
    "\n",
    "dpp = [(-(d[0] - g_o[0])),\n",
    "       (-(d[1] - g_o[1]))]\n",
    "\n",
    "dsp = [(g_o[0] * (1 - g_o[0])),\n",
    "       (g_o[1] * (1 - g_o[1]))]\n",
    "\n",
    "print(dpp[0]*dsp[0])\n",
    "print(dpp[1]*dsp[1])"
   ]
  },
  {
   "cell_type": "code",
   "execution_count": 225,
   "metadata": {},
   "outputs": [],
   "source": [
    "# Updating the weights of the hidden layer (Back Propagation)\n",
    "\n",
    "dpp = [((((g_o[0] - d[0])) * g_o[0] * (1 - g_o[0]) * w[4]) + (((g_o[1] - d[1])) * g_o[1] * (1 - g_o[1]) * w[6])),\n",
    "       ((((g_o[0] - d[0])) * g_o[0] * (1 - g_o[0]) * w[5]) + (((g_o[1] - d[1])) * g_o[1] * (1 - g_o[1]) * w[7]))]\n",
    "\n",
    "dsp = [(g_h[0] * (1 - g_h[0])),\n",
    "       (g_h[1] * (1 - g_h[1]))]"
   ]
  },
  {
   "cell_type": "code",
   "execution_count": 226,
   "metadata": {},
   "outputs": [
    {
     "name": "stdout",
     "output_type": "stream",
     "text": [
      "Epoch = 1\n",
      "----------\n",
      "Erro Total:  0.2983711087600027 \n",
      "\n",
      "Error Output O¹:  0.274811083176155 \n",
      "Error Output O²:  0.023560025583847746\n",
      "\n",
      "Hidden layer - Weights corrected\n",
      "Weights 1:  0.1497807161327628 \n",
      "Weights 2:  0.19978071613276283 \n",
      "Weights 3:  0.24950228726473914 \n",
      "Weights 4:  0.29950228726473915\n",
      "\n",
      "Exit layer - Weights corrected\n",
      "Weights 5:  0.35891647971788465 \n",
      "Weights 6:  0.4086661860762334 \n",
      "Weights 7:  0.5113012702387375 \n",
      "Weights 8:  0.5613701211079891\n"
     ]
    }
   ],
   "source": [
    "# Weights of the hidden layer (Back Propagation)\n",
    "w[0] = w[0] - n * (dpp[0] * dsp[0] * x[0])\n",
    "w[1] = w[1] - n * (dpp[0] * dsp[0] * x[0])\n",
    "w[2] = w[2] - n * (dpp[1] * dsp[1] * x[1])\n",
    "w[3] = w[3] - n * (dpp[1] * dsp[1] * x[1])\n",
    "\n",
    "# Output layer weights (Back Propagation)\n",
    "w[4] = w[4] - n * (dpp5 * dsp5 * g_h[0])\n",
    "w[5] = w[5] - n * (dpp6 * dsp6 * g_h[1])\n",
    "w[6] = w[6] - n * (dpp7 * dsp7 * g_h[0])\n",
    "w[7] = w[7] - n * (dpp8 * dsp8 * g_h[1])\n",
    "\n",
    "print(\"Epoch = 1\\n----------\")\n",
    "print(\"Erro Total: \",erro_total,\"\\n\\nError Output O¹: \",erro_o[0],\"\\nError Output O²: \",erro_o[1])\n",
    "print(\"\\nHidden layer - Weights corrected\")\n",
    "print(\"Weights 1: \",w[0],\"\\nWeights 2: \",w[1],\"\\nWeights 3: \",w[2],\"\\nWeights 4: \",w[3])\n",
    "print(\"\\nExit layer - Weights corrected\")\n",
    "print(\"Weights 5: \",w[4],\"\\nWeights 6: \",w[5],\"\\nWeights 7: \",w[6],\"\\nWeights 8: \",w[7])"
   ]
  },
  {
   "cell_type": "code",
   "execution_count": null,
   "metadata": {},
   "outputs": [],
   "source": []
  }
 ],
 "metadata": {
  "kernelspec": {
   "display_name": "Python 3",
   "language": "python",
   "name": "python3"
  },
  "language_info": {
   "codemirror_mode": {
    "name": "ipython",
    "version": 3
   },
   "file_extension": ".py",
   "mimetype": "text/x-python",
   "name": "python",
   "nbconvert_exporter": "python",
   "pygments_lexer": "ipython3",
   "version": "3.6.4"
  }
 },
 "nbformat": 4,
 "nbformat_minor": 2
}
