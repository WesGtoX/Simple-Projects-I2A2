{
 "cells": [
  {
   "cell_type": "code",
   "execution_count": 2,
   "metadata": {},
   "outputs": [],
   "source": [
    "import pandas as pd\n",
    "import numpy.linalg as la\n",
    "import numpy as np\n",
    "import matplotlib\n",
    "import matplotlib.pyplot as plt\n",
    "\n",
    "%matplotlib notebook"
   ]
  },
  {
   "cell_type": "code",
   "execution_count": 3,
   "metadata": {},
   "outputs": [
    {
     "name": "stdout",
     "output_type": "stream",
     "text": [
      "      S    M1    M2    M3    M4\n",
      "0    X1   375   135   458   475\n",
      "1    X2    57    47    53    73\n",
      "2    X3   245   267   242   227\n",
      "3    X4  1472  1494  1462  1582\n",
      "4    X5   105    66   103   103\n",
      "5    X6    54    41    62    64\n",
      "6    X7   193   209   184   235\n",
      "7    X8   147    93   122   160\n",
      "8    X9  1102   674   957  1137\n",
      "9   X10   720  1033   566   874\n",
      "10  X11   253   143   171   265\n",
      "11  X12   685   586   750   803\n",
      "12  X13   488   355   418   570\n",
      "13  X14   198   187   220   203\n",
      "14  X15   360   334   337   365\n",
      "15  X16  1374  1506  1572  1256\n",
      "16  X17   156   139   147   175\n"
     ]
    }
   ],
   "source": [
    "# import data\n",
    "anomalia = pd.read_csv('Anomalia.csv')\n",
    "anomalia.columns = ['S','M1','M2','M3','M4',]\n",
    "print(anomalia)"
   ]
  },
  {
   "cell_type": "code",
   "execution_count": 4,
   "metadata": {},
   "outputs": [
    {
     "name": "stdout",
     "output_type": "stream",
     "text": [
      "       M1      M2      M3      M4\n",
      "0   375.0   135.0   458.0   475.0\n",
      "1    57.0    47.0    53.0    73.0\n",
      "2   245.0   267.0   242.0   227.0\n",
      "3  1472.0  1494.0  1462.0  1582.0\n",
      "4   105.0    66.0   103.0   103.0\n"
     ]
    }
   ],
   "source": [
    "# drop col 'S'\n",
    "anomalia = anomalia.drop('S',axis=1)\n",
    "\n",
    "# convert dataset to float\n",
    "anomalia = anomalia.astype('float64')\n",
    "\n",
    "print(anomalia.head())"
   ]
  },
  {
   "cell_type": "code",
   "execution_count": 5,
   "metadata": {},
   "outputs": [],
   "source": [
    "# split data table into data X and class labels y\n",
    "\n",
    "X = anomalia.iloc[:,0:3].values\n",
    "y = anomalia.iloc[:,3].values"
   ]
  },
  {
   "cell_type": "code",
   "execution_count": 6,
   "metadata": {},
   "outputs": [
    {
     "name": "stdout",
     "output_type": "stream",
     "text": [
      "Covariance matrix \n",
      "[[204938.61764706 205869.97794118 209380.40073529 208027.29044118]\n",
      " [205869.97794118 230300.18382353 212002.95220588 208593.68382353]\n",
      " [209380.40073529 212002.95220588 220520.31617647 210011.13970588]\n",
      " [208027.29044118 208593.68382353 210011.13970588 215165.43382353]]\n"
     ]
    }
   ],
   "source": [
    "# covariance matrix\n",
    "cov_anomalia = np.cov(np.transpose(anomalia))\n",
    "\n",
    "print('Covariance matrix \\n%s' %cov_anomalia)"
   ]
  },
  {
   "cell_type": "code",
   "execution_count": 7,
   "metadata": {},
   "outputs": [
    {
     "name": "stdout",
     "output_type": "stream",
     "text": [
      "Eigenvectors \n",
      "[[ 0.49015722  0.28084203  0.82215915  0.07019969]\n",
      " [ 0.50726586 -0.85947138 -0.01409337  0.06157655]\n",
      " [ 0.50423561  0.24821973 -0.32029268 -0.76259165]\n",
      " [ 0.49817035  0.34759699 -0.47039166  0.64010493]]\n",
      "\n",
      "Eigenvalues \n",
      "[8.44816766e+05 1.74405141e+04 8.19116586e+02 7.84815517e+03]\n"
     ]
    }
   ],
   "source": [
    "# eigenvectors and eigenvalues \n",
    "\n",
    "eig_vals, eig_vecs = la.eig(cov_anomalia)\n",
    "\n",
    "print('Eigenvectors \\n%s' %eig_vecs)\n",
    "print('\\nEigenvalues \\n%s' %eig_vals)"
   ]
  },
  {
   "cell_type": "code",
   "execution_count": 22,
   "metadata": {},
   "outputs": [
    {
     "data": {
      "image/png": "[encoded data removed]",
      "text/plain": [
       "<Figure size 432x288 with 1 Axes>"
      ]
     },
     "metadata": {},
     "output_type": "display_data"
    }
   ],
   "source": [
    "x = np.arange(4)\n",
    "\n",
    "fig, ax = plt.subplots()\n",
    "#ax.yaxis.set_major_formatter(formatter)\n",
    "plt.bar(x, cov_anomalia[1])\n",
    "ax.set_title('FINDING ANOMALY IN MACHINES')\n",
    "plt.xticks(x, ('M1', 'M2', 'M3', 'M4'))\n",
    "plt.show()"
   ]
  },
  {
   "cell_type": "code",
   "execution_count": 9,
   "metadata": {},
   "outputs": [
    {
     "data": {
      "image/png": "[encoded data removed]",
      "text/plain": [
       "<Figure size 432x288 with 1 Axes>"
      ]
     },
     "metadata": {},
     "output_type": "display_data"
    }
   ],
   "source": [
    "# Fixing random state for reproducibility\n",
    "matplotlib.rcParams['axes.unicode_minus'] = False\n",
    "fig, ax = plt.subplots()\n",
    "ax.plot(cov_anomalia[1], 'o')\n",
    "ax.set_title('FINDING ANOMALY IN MACHINES')\n",
    "plt.xticks(x, ('M1', 'M2', 'M3', 'M4'))\n",
    "plt.show()"
   ]
  },
  {
   "cell_type": "code",
   "execution_count": 10,
   "metadata": {},
   "outputs": [
    {
     "name": "stdout",
     "output_type": "stream",
     "text": [
      "Eigenvalues in descending order:\n",
      "844816.7656696284\n",
      "17440.514050269972\n",
      "7848.155165147805\n",
      "819.1165855427688\n"
     ]
    }
   ],
   "source": [
    "# Make a list of (eigenvalue, eigenvector) tuples\n",
    "eig_pairs = [(np.abs(eig_vals[i]), eig_vecs[:,i]) for i in range(len(eig_vals))]\n",
    "\n",
    "# Sort the (eigenvalue, eigenvector) tuples from high to low\n",
    "eig_pairs.sort()\n",
    "eig_pairs.reverse()\n",
    "\n",
    "# Visually confirm that the list is correctly sorted by decreasing eigenvalues\n",
    "print('Eigenvalues in descending order:')\n",
    "for i in eig_pairs:\n",
    "    print(i[0])"
   ]
  },
  {
   "cell_type": "code",
   "execution_count": 11,
   "metadata": {},
   "outputs": [
    {
     "name": "stdout",
     "output_type": "stream",
     "text": [
      "Matrix W:\n",
      " [[ 0.49015722  0.28084203]\n",
      " [ 0.50726586 -0.85947138]\n",
      " [ 0.50423561  0.24821973]\n",
      " [ 0.49817035  0.34759699]]\n"
     ]
    }
   ],
   "source": [
    "matrix_w = np.hstack((eig_pairs[0][1].reshape(4,1), \n",
    "                      eig_pairs[1][1].reshape(4,1)))\n",
    "\n",
    "print('Matrix W:\\n', matrix_w)"
   ]
  },
  {
   "cell_type": "code",
   "execution_count": 12,
   "metadata": {},
   "outputs": [],
   "source": [
    "Y = anomalia.dot(matrix_w)"
   ]
  },
  {
   "cell_type": "code",
   "execution_count": 13,
   "metadata": {},
   "outputs": [
    {
     "data": {
      "text/html": [
       "<div>\n",
       "<style scoped>\n",
       "    .dataframe tbody tr th:only-of-type {\n",
       "        vertical-align: middle;\n",
       "    }\n",
       "\n",
       "    .dataframe tbody tr th {\n",
       "        vertical-align: top;\n",
       "    }\n",
       "\n",
       "    .dataframe thead th {\n",
       "        text-align: right;\n",
       "    }\n",
       "</style>\n",
       "<table border=\"1\" class=\"dataframe\">\n",
       "  <thead>\n",
       "    <tr style=\"text-align: right;\">\n",
       "      <th></th>\n",
       "      <th>0</th>\n",
       "      <th>1</th>\n",
       "    </tr>\n",
       "  </thead>\n",
       "  <tbody>\n",
       "    <tr>\n",
       "      <th>0</th>\n",
       "      <td>719.860674</td>\n",
       "      <td>268.080331</td>\n",
       "    </tr>\n",
       "    <tr>\n",
       "      <th>1</th>\n",
       "      <td>114.871380</td>\n",
       "      <td>14.143067</td>\n",
       "    </tr>\n",
       "    <tr>\n",
       "      <th>2</th>\n",
       "      <td>490.638190</td>\n",
       "      <td>-21.698870</td>\n",
       "    </tr>\n",
       "    <tr>\n",
       "      <th>3</th>\n",
       "      <td>3004.664577</td>\n",
       "      <td>42.144906</td>\n",
       "    </tr>\n",
       "    <tr>\n",
       "      <th>4</th>\n",
       "      <td>188.193869</td>\n",
       "      <td>34.132424</td>\n",
       "    </tr>\n",
       "    <tr>\n",
       "      <th>5</th>\n",
       "      <td>110.411900</td>\n",
       "      <td>17.562974</td>\n",
       "    </tr>\n",
       "    <tr>\n",
       "      <th>6</th>\n",
       "      <td>410.468293</td>\n",
       "      <td>1.930716</td>\n",
       "    </tr>\n",
       "    <tr>\n",
       "      <th>7</th>\n",
       "      <td>260.452837</td>\n",
       "      <td>47.251265</td>\n",
       "    </tr>\n",
       "    <tr>\n",
       "      <th>8</th>\n",
       "      <td>1931.023612</td>\n",
       "      <td>362.968264</td>\n",
       "    </tr>\n",
       "    <tr>\n",
       "      <th>9</th>\n",
       "      <td>1597.717073</td>\n",
       "      <td>-241.335539</td>\n",
       "    </tr>\n",
       "  </tbody>\n",
       "</table>\n",
       "</div>"
      ],
      "text/plain": [
       "             0           1\n",
       "0   719.860674  268.080331\n",
       "1   114.871380   14.143067\n",
       "2   490.638190  -21.698870\n",
       "3  3004.664577   42.144906\n",
       "4   188.193869   34.132424\n",
       "5   110.411900   17.562974\n",
       "6   410.468293    1.930716\n",
       "7   260.452837   47.251265\n",
       "8  1931.023612  362.968264\n",
       "9  1597.717073 -241.335539"
      ]
     },
     "execution_count": 13,
     "metadata": {},
     "output_type": "execute_result"
    }
   ],
   "source": [
    "Y[0:10]"
   ]
  },
  {
   "cell_type": "code",
   "execution_count": null,
   "metadata": {},
   "outputs": [],
   "source": []
  }
 ],
 "metadata": {
  "kernelspec": {
   "display_name": "Python 3",
   "language": "python",
   "name": "python3"
  },
  "language_info": {
   "codemirror_mode": {
    "name": "ipython",
    "version": 3
   },
   "file_extension": ".py",
   "mimetype": "text/x-python",
   "name": "python",
   "nbconvert_exporter": "python",
   "pygments_lexer": "ipython3",
   "version": "3.6.4"
  }
 },
 "nbformat": 4,
 "nbformat_minor": 2
}
