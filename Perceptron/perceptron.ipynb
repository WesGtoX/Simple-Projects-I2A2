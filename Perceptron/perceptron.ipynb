{
 "cells": [
  {
   "cell_type": "code",
   "execution_count": 1,
   "metadata": {},
   "outputs": [],
   "source": [
    "import numpy as np"
   ]
  },
  {
   "cell_type": "code",
   "execution_count": 2,
   "metadata": {},
   "outputs": [],
   "source": [
    "# Sigmoid - função matemática de amplo uso em campos como a economia e a computação\n",
    "def nonlin(x, deriv=False):\n",
    "    if(deriv==True):\n",
    "        return (x*(1-x))\n",
    "    \n",
    "    return 1/(1+np.exp(-x))"
   ]
  },
  {
   "cell_type": "code",
   "execution_count": 3,
   "metadata": {},
   "outputs": [],
   "source": [
    "# entrada de dados OR\n",
    "X = np.array([[0,0,0,0],\n",
    "            [0,0,0,1],\n",
    "            [0,0,1,0],\n",
    "            [0,0,1,1],\n",
    "            [0,1,0,0],\n",
    "            [0,1,0,1],\n",
    "            [0,1,1,0],\n",
    "            [0,1,1,1]])"
   ]
  },
  {
   "cell_type": "code",
   "execution_count": 4,
   "metadata": {},
   "outputs": [],
   "source": [
    "# saída de dados\n",
    "y = np.array([[0],\n",
    "             [1],\n",
    "             [1],\n",
    "             [1],\n",
    "             [1],\n",
    "             [1],\n",
    "             [1],\n",
    "             [1]])"
   ]
  },
  {
   "cell_type": "code",
   "execution_count": 5,
   "metadata": {},
   "outputs": [],
   "source": [
    "np.random.seed(1)"
   ]
  },
  {
   "cell_type": "code",
   "execution_count": 6,
   "metadata": {},
   "outputs": [],
   "source": [
    "# synapses\n",
    "syn0 = 2*np.random.random((4,8)) - 2 # <-- peso synapses 1\n",
    "syn1 = 2*np.random.random((8,1)) - 2 # <-- peso synapses 2"
   ]
  },
  {
   "cell_type": "code",
   "execution_count": 7,
   "metadata": {},
   "outputs": [
    {
     "name": "stdout",
     "output_type": "stream",
     "text": [
      "Error: 0.6324428076957065\n",
      "Error: 0.055213398393801155\n",
      "Error: 0.03503121220423084\n",
      "Error: 0.02713871075955654\n",
      "Error: 0.02274602549432743\n",
      "Error: 0.019881276235806475\n",
      "Error: 0.017835268130710097\n",
      "Error: 0.016285134080458744\n",
      "Error: 0.015060967999270414\n",
      "Error: 0.014064057389545324\n",
      "Error: 0.013232759999257512\n",
      "Error: 0.012526403048726199\n",
      "Error: 0.011916957743524572\n",
      "Error: 0.011384416705266694\n",
      "Error: 0.010914076733081894\n",
      "Error: 0.010494865036537675\n",
      "Error: 0.010118267093110861\n",
      "Error: 0.0097776166871884\n",
      "Error: 0.009467612159814313\n",
      "Error: 0.009183978504973647\n",
      "\n",
      "Output after training\n",
      "[[0.02201089]\n",
      " [0.9874389 ]\n",
      " [0.98565403]\n",
      " [0.99781115]\n",
      " [0.98615859]\n",
      " [0.99784782]\n",
      " [0.99742745]\n",
      " [0.99826711]]\n"
     ]
    }
   ],
   "source": [
    "# treinamento\n",
    "for j in range(2000):  \n",
    "    \n",
    "    # calculo avancado pela rede\n",
    "    l0 = X\n",
    "    l1 = nonlin(np.dot(l0, syn0))\n",
    "    l2 = nonlin(np.dot(l1, syn1))\n",
    "    \n",
    "    # propagacao de erro por regra de cadeias\n",
    "    l2_error = y - l2\n",
    "    if(j % 100) == 0:   # limitar tamanho da saída\n",
    "        print(\"Error: \" + str(np.mean(np.abs(l2_error))))\n",
    "        \n",
    "    l2_delta = l2_error*nonlin(l2, deriv=True)\n",
    "    \n",
    "    l1_error = l2_delta.dot(syn1.T)\n",
    "    \n",
    "    l1_delta = l1_error * nonlin(l1,deriv=True)\n",
    "    \n",
    "    # atualizar pesos\n",
    "    syn1 += l1.T.dot(l2_delta)\n",
    "    syn0 += l0.T.dot(l1_delta)\n",
    "    \n",
    "print(\"\\nOutput after training\")\n",
    "print(l2)"
   ]
  },
  {
   "cell_type": "code",
   "execution_count": null,
   "metadata": {},
   "outputs": [],
   "source": []
  }
 ],
 "metadata": {
  "kernelspec": {
   "display_name": "Python 3",
   "language": "python",
   "name": "python3"
  },
  "language_info": {
   "codemirror_mode": {
    "name": "ipython",
    "version": 3
   },
   "file_extension": ".py",
   "mimetype": "text/x-python",
   "name": "python",
   "nbconvert_exporter": "python",
   "pygments_lexer": "ipython3",
   "version": "3.6.4"
  }
 },
 "nbformat": 4,
 "nbformat_minor": 2
}
