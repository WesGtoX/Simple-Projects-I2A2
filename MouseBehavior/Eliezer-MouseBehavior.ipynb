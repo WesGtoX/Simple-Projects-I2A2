{
 "cells": [
  {
   "cell_type": "code",
   "execution_count": 1,
   "metadata": {},
   "outputs": [],
   "source": [
    "import pandas as pd\n",
    "import numpy.linalg as la\n",
    "import numpy as np\n",
    "import matplotlib\n",
    "import matplotlib.pyplot as plt\n",
    "\n",
    "%matplotlib notebook"
   ]
  },
  {
   "cell_type": "code",
   "execution_count": 2,
   "metadata": {},
   "outputs": [
    {
     "data": {
      "text/html": [
       "<div>\n",
       "<style scoped>\n",
       "    .dataframe tbody tr th:only-of-type {\n",
       "        vertical-align: middle;\n",
       "    }\n",
       "\n",
       "    .dataframe tbody tr th {\n",
       "        vertical-align: top;\n",
       "    }\n",
       "\n",
       "    .dataframe thead th {\n",
       "        text-align: right;\n",
       "    }\n",
       "</style>\n",
       "<table border=\"1\" class=\"dataframe\">\n",
       "  <thead>\n",
       "    <tr style=\"text-align: right;\">\n",
       "      <th></th>\n",
       "      <th>ID</th>\n",
       "      <th>D</th>\n",
       "      <th>M</th>\n",
       "      <th>A</th>\n",
       "      <th>S</th>\n",
       "      <th>X</th>\n",
       "      <th>Y</th>\n",
       "    </tr>\n",
       "  </thead>\n",
       "  <tbody>\n",
       "    <tr>\n",
       "      <th>0</th>\n",
       "      <td>0</td>\n",
       "      <td>8</td>\n",
       "      <td>11</td>\n",
       "      <td>2017</td>\n",
       "      <td>54765</td>\n",
       "      <td>520</td>\n",
       "      <td>785</td>\n",
       "    </tr>\n",
       "    <tr>\n",
       "      <th>1</th>\n",
       "      <td>0</td>\n",
       "      <td>8</td>\n",
       "      <td>11</td>\n",
       "      <td>2017</td>\n",
       "      <td>54765</td>\n",
       "      <td>582</td>\n",
       "      <td>772</td>\n",
       "    </tr>\n",
       "    <tr>\n",
       "      <th>2</th>\n",
       "      <td>0</td>\n",
       "      <td>8</td>\n",
       "      <td>11</td>\n",
       "      <td>2017</td>\n",
       "      <td>54765</td>\n",
       "      <td>865</td>\n",
       "      <td>735</td>\n",
       "    </tr>\n",
       "  </tbody>\n",
       "</table>\n",
       "</div>"
      ],
      "text/plain": [
       "   ID  D   M     A      S    X    Y\n",
       "0   0  8  11  2017  54765  520  785\n",
       "1   0  8  11  2017  54765  582  772\n",
       "2   0  8  11  2017  54765  865  735"
      ]
     },
     "execution_count": 2,
     "metadata": {},
     "output_type": "execute_result"
    }
   ],
   "source": [
    "pca = pd.read_csv('EliezerEdit.csv', encoding='latin1', sep=';')\n",
    "pca[0:3]"
   ]
  },
  {
   "cell_type": "code",
   "execution_count": 3,
   "metadata": {},
   "outputs": [
    {
     "data": {
      "text/html": [
       "<div>\n",
       "<style scoped>\n",
       "    .dataframe tbody tr th:only-of-type {\n",
       "        vertical-align: middle;\n",
       "    }\n",
       "\n",
       "    .dataframe tbody tr th {\n",
       "        vertical-align: top;\n",
       "    }\n",
       "\n",
       "    .dataframe thead th {\n",
       "        text-align: right;\n",
       "    }\n",
       "</style>\n",
       "<table border=\"1\" class=\"dataframe\">\n",
       "  <thead>\n",
       "    <tr style=\"text-align: right;\">\n",
       "      <th></th>\n",
       "      <th>ID</th>\n",
       "      <th>D</th>\n",
       "      <th>M</th>\n",
       "      <th>A</th>\n",
       "      <th>S</th>\n",
       "      <th>X</th>\n",
       "      <th>Y</th>\n",
       "    </tr>\n",
       "  </thead>\n",
       "  <tbody>\n",
       "    <tr>\n",
       "      <th>266285</th>\n",
       "      <td>987242774.0</td>\n",
       "      <td>28.0</td>\n",
       "      <td>12.0</td>\n",
       "      <td>2017.0</td>\n",
       "      <td>40652.0</td>\n",
       "      <td>28.0</td>\n",
       "      <td>958.0</td>\n",
       "    </tr>\n",
       "    <tr>\n",
       "      <th>266286</th>\n",
       "      <td>987242774.0</td>\n",
       "      <td>28.0</td>\n",
       "      <td>12.0</td>\n",
       "      <td>2017.0</td>\n",
       "      <td>40652.0</td>\n",
       "      <td>58.0</td>\n",
       "      <td>896.0</td>\n",
       "    </tr>\n",
       "    <tr>\n",
       "      <th>266287</th>\n",
       "      <td>987242774.0</td>\n",
       "      <td>28.0</td>\n",
       "      <td>12.0</td>\n",
       "      <td>2017.0</td>\n",
       "      <td>40652.0</td>\n",
       "      <td>62.0</td>\n",
       "      <td>894.0</td>\n",
       "    </tr>\n",
       "    <tr>\n",
       "      <th>266288</th>\n",
       "      <td>785454089.0</td>\n",
       "      <td>28.0</td>\n",
       "      <td>12.0</td>\n",
       "      <td>2017.0</td>\n",
       "      <td>40652.0</td>\n",
       "      <td>63.0</td>\n",
       "      <td>893.0</td>\n",
       "    </tr>\n",
       "    <tr>\n",
       "      <th>266289</th>\n",
       "      <td>785454089.0</td>\n",
       "      <td>28.0</td>\n",
       "      <td>12.0</td>\n",
       "      <td>2017.0</td>\n",
       "      <td>40652.0</td>\n",
       "      <td>63.0</td>\n",
       "      <td>893.0</td>\n",
       "    </tr>\n",
       "  </tbody>\n",
       "</table>\n",
       "</div>"
      ],
      "text/plain": [
       "                 ID     D     M       A        S     X      Y\n",
       "266285  987242774.0  28.0  12.0  2017.0  40652.0  28.0  958.0\n",
       "266286  987242774.0  28.0  12.0  2017.0  40652.0  58.0  896.0\n",
       "266287  987242774.0  28.0  12.0  2017.0  40652.0  62.0  894.0\n",
       "266288  785454089.0  28.0  12.0  2017.0  40652.0  63.0  893.0\n",
       "266289  785454089.0  28.0  12.0  2017.0  40652.0  63.0  893.0"
      ]
     },
     "execution_count": 3,
     "metadata": {},
     "output_type": "execute_result"
    }
   ],
   "source": [
    "# convert matrix to float\n",
    "pca = pca.astype('float64')\n",
    "\n",
    "# drops the empty line at file-end\n",
    "pca.dropna(how=\"all\", inplace=True)\n",
    "\n",
    "pca.tail()"
   ]
  },
  {
   "cell_type": "code",
   "execution_count": 4,
   "metadata": {},
   "outputs": [],
   "source": [
    "# split data table into data X and class labels y\n",
    "\n",
    "X = pca.iloc[:,0:5].values\n",
    "y = pca.iloc[:,5].values"
   ]
  },
  {
   "cell_type": "code",
   "execution_count": 5,
   "metadata": {},
   "outputs": [
    {
     "name": "stdout",
     "output_type": "stream",
     "text": [
      "Covariance matrix \n",
      "[[ 8.32385180e+16  9.74373579e+06 -5.67016451e+05  0.00000000e+00\n",
      "   4.52318202e+09  2.18821772e+08 -1.25093585e+08]\n",
      " [ 9.74373579e+06  7.10023469e+01 -2.62145708e+00  0.00000000e+00\n",
      "   9.60823773e+03  4.22098318e+01  7.15667213e+01]\n",
      " [-5.67016451e+05 -2.62145708e+00  2.19368923e-01  0.00000000e+00\n",
      "  -2.13122003e+03  4.54028979e+00 -2.39320019e+00]\n",
      " [ 0.00000000e+00  0.00000000e+00  0.00000000e+00  0.00000000e+00\n",
      "   0.00000000e+00  0.00000000e+00  0.00000000e+00]\n",
      " [ 4.52318202e+09  9.60823773e+03 -2.13122003e+03  0.00000000e+00\n",
      "   4.14438804e+08 -3.20070425e+05 -2.47928003e+04]\n",
      " [ 2.18821772e+08  4.22098318e+01  4.54028979e+00  0.00000000e+00\n",
      "  -3.20070425e+05  1.89680574e+05  1.06855093e+04]\n",
      " [-1.25093585e+08  7.15667213e+01 -2.39320019e+00  0.00000000e+00\n",
      "  -2.47928003e+04  1.06855093e+04  6.50507390e+04]]\n"
     ]
    }
   ],
   "source": [
    "# covariance matrix\n",
    "cov_pca = np.cov(np.transpose(pca))\n",
    "\n",
    "print('Covariance matrix \\n%s' %cov_pca)"
   ]
  },
  {
   "cell_type": "code",
   "execution_count": 6,
   "metadata": {},
   "outputs": [
    {
     "name": "stdout",
     "output_type": "stream",
     "text": [
      "Eigenvectors \n",
      "[[-1.00000000e+00  5.43380568e-08  2.53403931e-09 -1.72061585e-09\n",
      "  -1.17040646e-10  2.38479075e-12  0.00000000e+00]\n",
      " [-1.17058016e-10 -2.31823613e-05 -2.91953185e-04 -1.05646648e-03\n",
      "   9.99337123e-01  3.63883718e-02  0.00000000e+00]\n",
      " [ 6.81194794e-12  5.14235628e-06 -1.40272827e-05  4.30425127e-05\n",
      "  -3.63883521e-02  9.99337724e-01  0.00000000e+00]\n",
      " [ 0.00000000e+00  0.00000000e+00  0.00000000e+00  0.00000000e+00\n",
      "   0.00000000e+00  0.00000000e+00  1.00000000e+00]\n",
      " [-5.43400117e-08 -9.99999699e-01 -7.74965980e-04  5.95029734e-06\n",
      "  -2.35735542e-05  4.27625722e-06  0.00000000e+00]\n",
      " [-2.62885233e-09  7.72682034e-04 -9.96395258e-01  8.48283622e-02\n",
      "  -2.00489767e-04 -2.49439293e-05  0.00000000e+00]\n",
      " [ 1.50283292e-09  5.98354744e-05 -8.48280784e-02 -9.96395018e-01\n",
      "  -1.07822676e-03  2.46386671e-06  0.00000000e+00]]\n",
      "\n",
      "Eigenvalues \n",
      "[8.32385180e+16 4.14438807e+08 1.90340800e+05 6.41410333e+04\n",
      " 7.07843243e+01 1.14674885e-01 0.00000000e+00]\n"
     ]
    }
   ],
   "source": [
    "# eigenvectors and eigenvalues \n",
    "\n",
    "eig_vals, eig_vecs = la.eig(cov_pca)\n",
    "\n",
    "print('Eigenvectors \\n%s' %eig_vecs)\n",
    "print('\\nEigenvalues \\n%s' %eig_vals)"
   ]
  },
  {
   "cell_type": "code",
   "execution_count": 7,
   "metadata": {},
   "outputs": [
    {
     "name": "stdout",
     "output_type": "stream",
     "text": [
      "Eigenvalues in descending order:\n",
      "8.323851802653643e+16\n",
      "414438807.2162787\n",
      "190340.79974017857\n",
      "64141.03326861408\n",
      "70.78432431686063\n",
      "0.1146748854678966\n",
      "0.0\n"
     ]
    }
   ],
   "source": [
    "# Make a list of (eigenvalue, eigenvector) tuples\n",
    "eig_pairs = [(np.abs(eig_vals[i]), eig_vecs[:,i]) for i in range(len(eig_vals))]\n",
    "\n",
    "# Sort the (eigenvalue, eigenvector) tuples from high to low\n",
    "eig_pairs.sort()\n",
    "eig_pairs.reverse()\n",
    "\n",
    "# Visually confirm that the list is correctly sorted by decreasing eigenvalues\n",
    "print('Eigenvalues in descending order:')\n",
    "for i in eig_pairs:\n",
    "    print(i[0])"
   ]
  },
  {
   "cell_type": "code",
   "execution_count": 8,
   "metadata": {},
   "outputs": [
    {
     "name": "stdout",
     "output_type": "stream",
     "text": [
      "Matrix W:\n",
      " [[ 2.53403931e-09 -1.72061585e-09]\n",
      " [-2.91953185e-04 -1.05646648e-03]\n",
      " [-1.40272827e-05  4.30425127e-05]\n",
      " [ 0.00000000e+00  0.00000000e+00]\n",
      " [-7.74965980e-04  5.95029734e-06]\n",
      " [-9.96395258e-01  8.48283622e-02]\n",
      " [-8.48280784e-02 -9.96395018e-01]]\n"
     ]
    }
   ],
   "source": [
    "# principal components\n",
    "matrix_w = np.hstack((eig_pairs[2][1].reshape(7,1), \n",
    "                      eig_pairs[3][1].reshape(7,1)))\n",
    "\n",
    "print('Matrix W:\\n', matrix_w)"
   ]
  },
  {
   "cell_type": "code",
   "execution_count": 9,
   "metadata": {},
   "outputs": [],
   "source": [
    "Y = pca.dot(matrix_w)"
   ]
  },
  {
   "cell_type": "code",
   "execution_count": 10,
   "metadata": {},
   "outputs": [
    {
     "data": {
      "text/html": [
       "<div>\n",
       "<style scoped>\n",
       "    .dataframe tbody tr th:only-of-type {\n",
       "        vertical-align: middle;\n",
       "    }\n",
       "\n",
       "    .dataframe tbody tr th {\n",
       "        vertical-align: top;\n",
       "    }\n",
       "\n",
       "    .dataframe thead th {\n",
       "        text-align: right;\n",
       "    }\n",
       "</style>\n",
       "<table border=\"1\" class=\"dataframe\">\n",
       "  <thead>\n",
       "    <tr style=\"text-align: right;\">\n",
       "      <th></th>\n",
       "      <th>0</th>\n",
       "      <th>1</th>\n",
       "    </tr>\n",
       "  </thead>\n",
       "  <tbody>\n",
       "    <tr>\n",
       "      <th>0</th>\n",
       "      <td>-627.159078</td>\n",
       "      <td>-737.741451</td>\n",
       "    </tr>\n",
       "    <tr>\n",
       "      <th>1</th>\n",
       "      <td>-687.832819</td>\n",
       "      <td>-719.528957</td>\n",
       "    </tr>\n",
       "    <tr>\n",
       "      <th>2</th>\n",
       "      <td>-966.674038</td>\n",
       "      <td>-658.655915</td>\n",
       "    </tr>\n",
       "    <tr>\n",
       "      <th>3</th>\n",
       "      <td>-1015.900004</td>\n",
       "      <td>-647.439732</td>\n",
       "    </tr>\n",
       "    <tr>\n",
       "      <th>4</th>\n",
       "      <td>-1016.293668</td>\n",
       "      <td>-646.710686</td>\n",
       "    </tr>\n",
       "    <tr>\n",
       "      <th>5</th>\n",
       "      <td>-1019.198026</td>\n",
       "      <td>-645.459806</td>\n",
       "    </tr>\n",
       "    <tr>\n",
       "      <th>6</th>\n",
       "      <td>-1419.647341</td>\n",
       "      <td>-739.830472</td>\n",
       "    </tr>\n",
       "    <tr>\n",
       "      <th>7</th>\n",
       "      <td>-1714.371614</td>\n",
       "      <td>-830.154988</td>\n",
       "    </tr>\n",
       "    <tr>\n",
       "      <th>8</th>\n",
       "      <td>-1755.330189</td>\n",
       "      <td>-839.714988</td>\n",
       "    </tr>\n",
       "    <tr>\n",
       "      <th>9</th>\n",
       "      <td>-1781.534033</td>\n",
       "      <td>-864.581773</td>\n",
       "    </tr>\n",
       "  </tbody>\n",
       "</table>\n",
       "</div>"
      ],
      "text/plain": [
       "             0           1\n",
       "0  -627.159078 -737.741451\n",
       "1  -687.832819 -719.528957\n",
       "2  -966.674038 -658.655915\n",
       "3 -1015.900004 -647.439732\n",
       "4 -1016.293668 -646.710686\n",
       "5 -1019.198026 -645.459806\n",
       "6 -1419.647341 -739.830472\n",
       "7 -1714.371614 -830.154988\n",
       "8 -1755.330189 -839.714988\n",
       "9 -1781.534033 -864.581773"
      ]
     },
     "execution_count": 10,
     "metadata": {},
     "output_type": "execute_result"
    }
   ],
   "source": [
    "Y[0:10]"
   ]
  },
  {
   "cell_type": "code",
   "execution_count": 11,
   "metadata": {},
   "outputs": [
    {
     "data": {
      "text/plain": [
       "\"# Fixing random state for reproducibility\\nmatplotlib.rcParams['axes.unicode_minus'] = False\\nfig, ax = plt.subplots()\\nax.plot(Y, 'o')\\nax.set_title('Using hyphen instead of Unicode minus')\\nplt.show()\""
      ]
     },
     "execution_count": 11,
     "metadata": {},
     "output_type": "execute_result"
    }
   ],
   "source": [
    "'''# Fixing random state for reproducibility\n",
    "matplotlib.rcParams['axes.unicode_minus'] = False\n",
    "fig, ax = plt.subplots()\n",
    "ax.plot(Y, 'o')\n",
    "ax.set_title('Using hyphen instead of Unicode minus')\n",
    "plt.show()'''"
   ]
  }
 ],
 "metadata": {
  "kernelspec": {
   "display_name": "Python 3",
   "language": "python",
   "name": "python3"
  },
  "language_info": {
   "codemirror_mode": {
    "name": "ipython",
    "version": 3
   },
   "file_extension": ".py",
   "mimetype": "text/x-python",
   "name": "python",
   "nbconvert_exporter": "python",
   "pygments_lexer": "ipython3",
   "version": "3.6.4"
  }
 },
 "nbformat": 4,
 "nbformat_minor": 2
}
