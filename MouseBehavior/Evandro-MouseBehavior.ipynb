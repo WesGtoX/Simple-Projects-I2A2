{
 "cells": [
  {
   "cell_type": "code",
   "execution_count": 1,
   "metadata": {},
   "outputs": [],
   "source": [
    "import pandas as pd\n",
    "import numpy.linalg as la\n",
    "import numpy as np\n",
    "import matplotlib\n",
    "import matplotlib.pyplot as plt\n",
    "\n",
    "%matplotlib notebook"
   ]
  },
  {
   "cell_type": "code",
   "execution_count": 2,
   "metadata": {},
   "outputs": [
    {
     "data": {
      "text/html": [
       "<div>\n",
       "<style scoped>\n",
       "    .dataframe tbody tr th:only-of-type {\n",
       "        vertical-align: middle;\n",
       "    }\n",
       "\n",
       "    .dataframe tbody tr th {\n",
       "        vertical-align: top;\n",
       "    }\n",
       "\n",
       "    .dataframe thead th {\n",
       "        text-align: right;\n",
       "    }\n",
       "</style>\n",
       "<table border=\"1\" class=\"dataframe\">\n",
       "  <thead>\n",
       "    <tr style=\"text-align: right;\">\n",
       "      <th></th>\n",
       "      <th>ID</th>\n",
       "      <th>D</th>\n",
       "      <th>M</th>\n",
       "      <th>A</th>\n",
       "      <th>S</th>\n",
       "      <th>X</th>\n",
       "      <th>Y</th>\n",
       "    </tr>\n",
       "  </thead>\n",
       "  <tbody>\n",
       "    <tr>\n",
       "      <th>0</th>\n",
       "      <td>22210384</td>\n",
       "      <td>30</td>\n",
       "      <td>11</td>\n",
       "      <td>2017</td>\n",
       "      <td>35773</td>\n",
       "      <td>369</td>\n",
       "      <td>402</td>\n",
       "    </tr>\n",
       "    <tr>\n",
       "      <th>1</th>\n",
       "      <td>22210384</td>\n",
       "      <td>30</td>\n",
       "      <td>11</td>\n",
       "      <td>2017</td>\n",
       "      <td>35773</td>\n",
       "      <td>639</td>\n",
       "      <td>447</td>\n",
       "    </tr>\n",
       "    <tr>\n",
       "      <th>2</th>\n",
       "      <td>22210384</td>\n",
       "      <td>30</td>\n",
       "      <td>11</td>\n",
       "      <td>2017</td>\n",
       "      <td>35773</td>\n",
       "      <td>702</td>\n",
       "      <td>460</td>\n",
       "    </tr>\n",
       "  </tbody>\n",
       "</table>\n",
       "</div>"
      ],
      "text/plain": [
       "         ID   D   M     A      S    X    Y\n",
       "0  22210384  30  11  2017  35773  369  402\n",
       "1  22210384  30  11  2017  35773  639  447\n",
       "2  22210384  30  11  2017  35773  702  460"
      ]
     },
     "execution_count": 2,
     "metadata": {},
     "output_type": "execute_result"
    }
   ],
   "source": [
    "pca = pd.read_csv('EvandroEdit.csv', encoding='latin1', sep=';')\n",
    "pca[0:3]"
   ]
  },
  {
   "cell_type": "code",
   "execution_count": 3,
   "metadata": {},
   "outputs": [
    {
     "data": {
      "text/html": [
       "<div>\n",
       "<style scoped>\n",
       "    .dataframe tbody tr th:only-of-type {\n",
       "        vertical-align: middle;\n",
       "    }\n",
       "\n",
       "    .dataframe tbody tr th {\n",
       "        vertical-align: top;\n",
       "    }\n",
       "\n",
       "    .dataframe thead th {\n",
       "        text-align: right;\n",
       "    }\n",
       "</style>\n",
       "<table border=\"1\" class=\"dataframe\">\n",
       "  <thead>\n",
       "    <tr style=\"text-align: right;\">\n",
       "      <th></th>\n",
       "      <th>ID</th>\n",
       "      <th>D</th>\n",
       "      <th>M</th>\n",
       "      <th>A</th>\n",
       "      <th>S</th>\n",
       "      <th>X</th>\n",
       "      <th>Y</th>\n",
       "    </tr>\n",
       "  </thead>\n",
       "  <tbody>\n",
       "    <tr>\n",
       "      <th>432895</th>\n",
       "      <td>239747205.0</td>\n",
       "      <td>2.0</td>\n",
       "      <td>1.0</td>\n",
       "      <td>2018.0</td>\n",
       "      <td>41419.0</td>\n",
       "      <td>969.0</td>\n",
       "      <td>881.0</td>\n",
       "    </tr>\n",
       "    <tr>\n",
       "      <th>432896</th>\n",
       "      <td>239747205.0</td>\n",
       "      <td>2.0</td>\n",
       "      <td>1.0</td>\n",
       "      <td>2018.0</td>\n",
       "      <td>41419.0</td>\n",
       "      <td>1027.0</td>\n",
       "      <td>482.0</td>\n",
       "    </tr>\n",
       "    <tr>\n",
       "      <th>432897</th>\n",
       "      <td>674810745.0</td>\n",
       "      <td>2.0</td>\n",
       "      <td>1.0</td>\n",
       "      <td>2018.0</td>\n",
       "      <td>41419.0</td>\n",
       "      <td>1031.0</td>\n",
       "      <td>468.0</td>\n",
       "    </tr>\n",
       "    <tr>\n",
       "      <th>432898</th>\n",
       "      <td>925636237.0</td>\n",
       "      <td>2.0</td>\n",
       "      <td>1.0</td>\n",
       "      <td>2018.0</td>\n",
       "      <td>41419.0</td>\n",
       "      <td>1030.0</td>\n",
       "      <td>471.0</td>\n",
       "    </tr>\n",
       "    <tr>\n",
       "      <th>432899</th>\n",
       "      <td>925636237.0</td>\n",
       "      <td>2.0</td>\n",
       "      <td>1.0</td>\n",
       "      <td>2018.0</td>\n",
       "      <td>41419.0</td>\n",
       "      <td>1031.0</td>\n",
       "      <td>468.0</td>\n",
       "    </tr>\n",
       "  </tbody>\n",
       "</table>\n",
       "</div>"
      ],
      "text/plain": [
       "                 ID    D    M       A        S       X      Y\n",
       "432895  239747205.0  2.0  1.0  2018.0  41419.0   969.0  881.0\n",
       "432896  239747205.0  2.0  1.0  2018.0  41419.0  1027.0  482.0\n",
       "432897  674810745.0  2.0  1.0  2018.0  41419.0  1031.0  468.0\n",
       "432898  925636237.0  2.0  1.0  2018.0  41419.0  1030.0  471.0\n",
       "432899  925636237.0  2.0  1.0  2018.0  41419.0  1031.0  468.0"
      ]
     },
     "execution_count": 3,
     "metadata": {},
     "output_type": "execute_result"
    }
   ],
   "source": [
    "# convert matrix to float\n",
    "pca = pca.astype('float64')\n",
    "\n",
    "# drops the empty line at file-end\n",
    "pca.dropna(how=\"all\", inplace=True)\n",
    "\n",
    "pca.tail()"
   ]
  },
  {
   "cell_type": "code",
   "execution_count": 4,
   "metadata": {},
   "outputs": [],
   "source": [
    "# split data table into data X and class labels y\n",
    "\n",
    "X = pca.iloc[:,0:5].values\n",
    "y = pca.iloc[:,5].values"
   ]
  },
  {
   "cell_type": "code",
   "execution_count": 5,
   "metadata": {},
   "outputs": [
    {
     "name": "stdout",
     "output_type": "stream",
     "text": [
      "Covariance matrix \n",
      "[[ 8.34900963e+16 -1.10591835e+07 -2.72468955e+06  2.47168650e+05\n",
      "   1.08568581e+10 -4.60293720e+07  1.73782005e+08]\n",
      " [-1.10591835e+07  5.49760930e+01  4.94143189e+00 -4.49425121e-01\n",
      "  -5.81125486e+03  3.46280402e+01  6.50949059e+01]\n",
      " [-2.72468955e+06  4.94143189e+00  3.70580434e+00 -3.36882131e-01\n",
      "  -2.84288797e+03 -2.28127187e+01  1.92536319e+01]\n",
      " [ 2.47168650e+05 -4.49425121e-01 -3.36882131e-01  3.06260932e-02\n",
      "   2.58630199e+02  2.07418364e+00 -1.75396418e+00]\n",
      " [ 1.08568581e+10 -5.81125486e+03 -2.84288797e+03  2.58630199e+02\n",
      "   2.02902932e+08 -1.11259478e+05  1.82967635e+04]\n",
      " [-4.60293720e+07  3.46280402e+01 -2.28127187e+01  2.07418364e+00\n",
      "  -1.11259478e+05  3.16900411e+05  8.98658424e+02]\n",
      " [ 1.73782005e+08  6.50949059e+01  1.92536319e+01 -1.75396418e+00\n",
      "   1.82967635e+04  8.98658424e+02  7.94507128e+04]]\n"
     ]
    }
   ],
   "source": [
    "# covariance matrix\n",
    "cov_pca = np.cov(np.transpose(pca))\n",
    "\n",
    "print('Covariance matrix \\n%s' %cov_pca)"
   ]
  },
  {
   "cell_type": "code",
   "execution_count": 6,
   "metadata": {},
   "outputs": [
    {
     "name": "stdout",
     "output_type": "stream",
     "text": [
      "Eigenvectors \n",
      "[[-1.00000000e+00 -1.30038151e-07 -4.71986081e-10  2.07145979e-09\n",
      "   1.32783127e-10  1.90888857e-11 -6.63174604e-15]\n",
      " [ 1.32461022e-10 -2.86337373e-05 -1.00010247e-04 -8.25309963e-04\n",
      "   9.95569308e-01 -9.40269198e-02 -4.37785318e-06]\n",
      " [ 3.26348833e-11 -1.40093493e-05  7.66946995e-05 -2.46880521e-04\n",
      "   9.36402879e-02  9.91481903e-01 -9.05266012e-02]\n",
      " [-2.96045472e-12  1.27449345e-06 -6.97346977e-06  2.24896440e-05\n",
      "  -8.51626287e-03 -9.01251256e-02 -9.95894038e-01]\n",
      " [-1.30037677e-07  9.99999845e-01 -5.48822674e-04  9.21715361e-05\n",
      "   2.98567928e-05  1.13753756e-05  9.21689802e-10]\n",
      " [ 5.51315354e-10 -5.49169827e-04 -9.99992514e-01  3.82819576e-03\n",
      "  -8.91070913e-05  8.67144238e-05  2.53390261e-09]\n",
      " [-2.08146850e-09  9.00970052e-05 -3.82818373e-03 -9.99992297e-01\n",
      "  -8.45307638e-04 -1.68871390e-04 -4.44253501e-08]]\n",
      "\n",
      "Eigenvalues \n",
      "[8.34900963e+16 2.02901583e+08 3.16842772e+05 7.94452846e+04\n",
      " 5.52105918e+01 3.22986365e+00 1.26710650e-06]\n"
     ]
    }
   ],
   "source": [
    "# eigenvectors and eigenvalues \n",
    "\n",
    "eig_vals, eig_vecs = la.eig(cov_pca)\n",
    "\n",
    "print('Eigenvectors \\n%s' %eig_vecs)\n",
    "print('\\nEigenvalues \\n%s' %eig_vals)"
   ]
  },
  {
   "cell_type": "code",
   "execution_count": 7,
   "metadata": {},
   "outputs": [
    {
     "name": "stdout",
     "output_type": "stream",
     "text": [
      "Eigenvalues in descending order:\n",
      "8.349009629072845e+16\n",
      "202901583.33402073\n",
      "316842.77249009715\n",
      "79445.28458337946\n",
      "55.21059180364557\n",
      "3.2298636461151062\n",
      "1.2671065049019067e-06\n"
     ]
    }
   ],
   "source": [
    "# Make a list of (eigenvalue, eigenvector) tuples\n",
    "eig_pairs = [(np.abs(eig_vals[i]), eig_vecs[:,i]) for i in range(len(eig_vals))]\n",
    "\n",
    "# Sort the (eigenvalue, eigenvector) tuples from high to low\n",
    "eig_pairs.sort()\n",
    "eig_pairs.reverse()\n",
    "\n",
    "# Visually confirm that the list is correctly sorted by decreasing eigenvalues\n",
    "print('Eigenvalues in descending order:')\n",
    "for i in eig_pairs:\n",
    "    print(i[0])"
   ]
  },
  {
   "cell_type": "code",
   "execution_count": 8,
   "metadata": {},
   "outputs": [
    {
     "name": "stdout",
     "output_type": "stream",
     "text": [
      "Matrix W:\n",
      " [[-4.71986081e-10  2.07145979e-09]\n",
      " [-1.00010247e-04 -8.25309963e-04]\n",
      " [ 7.66946995e-05 -2.46880521e-04]\n",
      " [-6.97346977e-06  2.24896440e-05]\n",
      " [-5.48822674e-04  9.21715361e-05]\n",
      " [-9.99992514e-01  3.82819576e-03]\n",
      " [-3.82818373e-03 -9.99992297e-01]]\n"
     ]
    }
   ],
   "source": [
    "# principal components\n",
    "matrix_w = np.hstack((eig_pairs[2][1].reshape(7,1), \n",
    "                      eig_pairs[3][1].reshape(7,1)))\n",
    "\n",
    "print('Matrix W:\\n', matrix_w)"
   ]
  },
  {
   "cell_type": "code",
   "execution_count": 9,
   "metadata": {},
   "outputs": [],
   "source": [
    "Y = pca.dot(matrix_w)"
   ]
  },
  {
   "cell_type": "code",
   "execution_count": 10,
   "metadata": {},
   "outputs": [
    {
     "data": {
      "text/html": [
       "<div>\n",
       "<style scoped>\n",
       "    .dataframe tbody tr th:only-of-type {\n",
       "        vertical-align: middle;\n",
       "    }\n",
       "\n",
       "    .dataframe tbody tr th {\n",
       "        vertical-align: top;\n",
       "    }\n",
       "\n",
       "    .dataframe thead th {\n",
       "        text-align: right;\n",
       "    }\n",
       "</style>\n",
       "<table border=\"1\" class=\"dataframe\">\n",
       "  <thead>\n",
       "    <tr style=\"text-align: right;\">\n",
       "      <th></th>\n",
       "      <th>0</th>\n",
       "      <th>1</th>\n",
       "    </tr>\n",
       "  </thead>\n",
       "  <tbody>\n",
       "    <tr>\n",
       "      <th>0</th>\n",
       "      <td>-390.195906</td>\n",
       "      <td>-397.223152</td>\n",
       "    </tr>\n",
       "    <tr>\n",
       "      <th>1</th>\n",
       "      <td>-660.366153</td>\n",
       "      <td>-441.189193</td>\n",
       "    </tr>\n",
       "    <tr>\n",
       "      <th>2</th>\n",
       "      <td>-723.415448</td>\n",
       "      <td>-453.947916</td>\n",
       "    </tr>\n",
       "    <tr>\n",
       "      <th>3</th>\n",
       "      <td>-728.786252</td>\n",
       "      <td>-453.318014</td>\n",
       "    </tr>\n",
       "    <tr>\n",
       "      <th>4</th>\n",
       "      <td>-1077.673171</td>\n",
       "      <td>-422.982105</td>\n",
       "    </tr>\n",
       "    <tr>\n",
       "      <th>5</th>\n",
       "      <td>-1126.707258</td>\n",
       "      <td>-431.794454</td>\n",
       "    </tr>\n",
       "    <tr>\n",
       "      <th>6</th>\n",
       "      <td>-1104.136529</td>\n",
       "      <td>-566.249594</td>\n",
       "    </tr>\n",
       "    <tr>\n",
       "      <th>7</th>\n",
       "      <td>-1102.178654</td>\n",
       "      <td>-577.257166</td>\n",
       "    </tr>\n",
       "    <tr>\n",
       "      <th>8</th>\n",
       "      <td>-999.398147</td>\n",
       "      <td>-708.877008</td>\n",
       "    </tr>\n",
       "    <tr>\n",
       "      <th>9</th>\n",
       "      <td>-752.835573</td>\n",
       "      <td>-1084.823512</td>\n",
       "    </tr>\n",
       "  </tbody>\n",
       "</table>\n",
       "</div>"
      ],
      "text/plain": [
       "             0            1\n",
       "0  -390.195906  -397.223152\n",
       "1  -660.366153  -441.189193\n",
       "2  -723.415448  -453.947916\n",
       "3  -728.786252  -453.318014\n",
       "4 -1077.673171  -422.982105\n",
       "5 -1126.707258  -431.794454\n",
       "6 -1104.136529  -566.249594\n",
       "7 -1102.178654  -577.257166\n",
       "8  -999.398147  -708.877008\n",
       "9  -752.835573 -1084.823512"
      ]
     },
     "execution_count": 10,
     "metadata": {},
     "output_type": "execute_result"
    }
   ],
   "source": [
    "Y[0:10]"
   ]
  },
  {
   "cell_type": "code",
   "execution_count": 11,
   "metadata": {},
   "outputs": [
    {
     "data": {
      "text/plain": [
       "\"# Fixing random state for reproducibility\\nmatplotlib.rcParams['axes.unicode_minus'] = False\\nfig, ax = plt.subplots()\\nax.plot(Y, 'o')\\nax.set_title('Using hyphen instead of Unicode minus')\\nplt.show()\""
      ]
     },
     "execution_count": 11,
     "metadata": {},
     "output_type": "execute_result"
    }
   ],
   "source": [
    "'''# Fixing random state for reproducibility\n",
    "matplotlib.rcParams['axes.unicode_minus'] = False\n",
    "fig, ax = plt.subplots()\n",
    "ax.plot(Y, 'o')\n",
    "ax.set_title('Using hyphen instead of Unicode minus')\n",
    "plt.show()'''"
   ]
  }
 ],
 "metadata": {
  "kernelspec": {
   "display_name": "Python 3",
   "language": "python",
   "name": "python3"
  },
  "language_info": {
   "codemirror_mode": {
    "name": "ipython",
    "version": 3
   },
   "file_extension": ".py",
   "mimetype": "text/x-python",
   "name": "python",
   "nbconvert_exporter": "python",
   "pygments_lexer": "ipython3",
   "version": "3.6.4"
  }
 },
 "nbformat": 4,
 "nbformat_minor": 2
}
