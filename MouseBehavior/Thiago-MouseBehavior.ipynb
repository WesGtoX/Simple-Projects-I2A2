{
 "cells": [
  {
   "cell_type": "code",
   "execution_count": 1,
   "metadata": {},
   "outputs": [],
   "source": [
    "import pandas as pd\n",
    "import numpy.linalg as la\n",
    "import numpy as np\n",
    "import matplotlib\n",
    "import matplotlib.pyplot as plt\n",
    "\n",
    "%matplotlib notebook"
   ]
  },
  {
   "cell_type": "code",
   "execution_count": 2,
   "metadata": {},
   "outputs": [
    {
     "data": {
      "text/html": [
       "<div>\n",
       "<style scoped>\n",
       "    .dataframe tbody tr th:only-of-type {\n",
       "        vertical-align: middle;\n",
       "    }\n",
       "\n",
       "    .dataframe tbody tr th {\n",
       "        vertical-align: top;\n",
       "    }\n",
       "\n",
       "    .dataframe thead th {\n",
       "        text-align: right;\n",
       "    }\n",
       "</style>\n",
       "<table border=\"1\" class=\"dataframe\">\n",
       "  <thead>\n",
       "    <tr style=\"text-align: right;\">\n",
       "      <th></th>\n",
       "      <th>ID</th>\n",
       "      <th>D</th>\n",
       "      <th>M</th>\n",
       "      <th>A</th>\n",
       "      <th>S</th>\n",
       "      <th>X</th>\n",
       "      <th>Y</th>\n",
       "    </tr>\n",
       "  </thead>\n",
       "  <tbody>\n",
       "    <tr>\n",
       "      <th>0</th>\n",
       "      <td>179873367</td>\n",
       "      <td>23</td>\n",
       "      <td>11</td>\n",
       "      <td>2017</td>\n",
       "      <td>54683</td>\n",
       "      <td>1222</td>\n",
       "      <td>602</td>\n",
       "    </tr>\n",
       "    <tr>\n",
       "      <th>1</th>\n",
       "      <td>5674721</td>\n",
       "      <td>23</td>\n",
       "      <td>11</td>\n",
       "      <td>2017</td>\n",
       "      <td>54683</td>\n",
       "      <td>1231</td>\n",
       "      <td>591</td>\n",
       "    </tr>\n",
       "    <tr>\n",
       "      <th>2</th>\n",
       "      <td>5674721</td>\n",
       "      <td>23</td>\n",
       "      <td>11</td>\n",
       "      <td>2017</td>\n",
       "      <td>54683</td>\n",
       "      <td>1333</td>\n",
       "      <td>619</td>\n",
       "    </tr>\n",
       "  </tbody>\n",
       "</table>\n",
       "</div>"
      ],
      "text/plain": [
       "          ID   D   M     A      S     X    Y\n",
       "0  179873367  23  11  2017  54683  1222  602\n",
       "1    5674721  23  11  2017  54683  1231  591\n",
       "2    5674721  23  11  2017  54683  1333  619"
      ]
     },
     "execution_count": 2,
     "metadata": {},
     "output_type": "execute_result"
    }
   ],
   "source": [
    "pca = pd.read_csv('ThiagoEdit.csv', encoding='latin1', sep=';')\n",
    "pca[0:3]"
   ]
  },
  {
   "cell_type": "code",
   "execution_count": 3,
   "metadata": {},
   "outputs": [
    {
     "data": {
      "text/html": [
       "<div>\n",
       "<style scoped>\n",
       "    .dataframe tbody tr th:only-of-type {\n",
       "        vertical-align: middle;\n",
       "    }\n",
       "\n",
       "    .dataframe tbody tr th {\n",
       "        vertical-align: top;\n",
       "    }\n",
       "\n",
       "    .dataframe thead th {\n",
       "        text-align: right;\n",
       "    }\n",
       "</style>\n",
       "<table border=\"1\" class=\"dataframe\">\n",
       "  <thead>\n",
       "    <tr style=\"text-align: right;\">\n",
       "      <th></th>\n",
       "      <th>ID</th>\n",
       "      <th>D</th>\n",
       "      <th>M</th>\n",
       "      <th>A</th>\n",
       "      <th>S</th>\n",
       "      <th>X</th>\n",
       "      <th>Y</th>\n",
       "    </tr>\n",
       "  </thead>\n",
       "  <tbody>\n",
       "    <tr>\n",
       "      <th>224418</th>\n",
       "      <td>354224348.0</td>\n",
       "      <td>6.0</td>\n",
       "      <td>12.0</td>\n",
       "      <td>2017.0</td>\n",
       "      <td>28436.0</td>\n",
       "      <td>26.0</td>\n",
       "      <td>516.0</td>\n",
       "    </tr>\n",
       "    <tr>\n",
       "      <th>224419</th>\n",
       "      <td>354224348.0</td>\n",
       "      <td>6.0</td>\n",
       "      <td>12.0</td>\n",
       "      <td>2017.0</td>\n",
       "      <td>28436.0</td>\n",
       "      <td>36.0</td>\n",
       "      <td>520.0</td>\n",
       "    </tr>\n",
       "    <tr>\n",
       "      <th>224420</th>\n",
       "      <td>354224348.0</td>\n",
       "      <td>6.0</td>\n",
       "      <td>12.0</td>\n",
       "      <td>2017.0</td>\n",
       "      <td>28436.0</td>\n",
       "      <td>38.0</td>\n",
       "      <td>522.0</td>\n",
       "    </tr>\n",
       "    <tr>\n",
       "      <th>224421</th>\n",
       "      <td>354224348.0</td>\n",
       "      <td>6.0</td>\n",
       "      <td>12.0</td>\n",
       "      <td>2017.0</td>\n",
       "      <td>28436.0</td>\n",
       "      <td>39.0</td>\n",
       "      <td>523.0</td>\n",
       "    </tr>\n",
       "    <tr>\n",
       "      <th>224422</th>\n",
       "      <td>379341422.0</td>\n",
       "      <td>6.0</td>\n",
       "      <td>12.0</td>\n",
       "      <td>2017.0</td>\n",
       "      <td>28437.0</td>\n",
       "      <td>41.0</td>\n",
       "      <td>523.0</td>\n",
       "    </tr>\n",
       "  </tbody>\n",
       "</table>\n",
       "</div>"
      ],
      "text/plain": [
       "                 ID    D     M       A        S     X      Y\n",
       "224418  354224348.0  6.0  12.0  2017.0  28436.0  26.0  516.0\n",
       "224419  354224348.0  6.0  12.0  2017.0  28436.0  36.0  520.0\n",
       "224420  354224348.0  6.0  12.0  2017.0  28436.0  38.0  522.0\n",
       "224421  354224348.0  6.0  12.0  2017.0  28436.0  39.0  523.0\n",
       "224422  379341422.0  6.0  12.0  2017.0  28437.0  41.0  523.0"
      ]
     },
     "execution_count": 3,
     "metadata": {},
     "output_type": "execute_result"
    }
   ],
   "source": [
    "# convert matrix to float\n",
    "pca = pca.astype('float64')\n",
    "\n",
    "# drops the empty line at file-end\n",
    "pca.dropna(how=\"all\", inplace=True)\n",
    "\n",
    "pca.tail()"
   ]
  },
  {
   "cell_type": "code",
   "execution_count": 4,
   "metadata": {},
   "outputs": [],
   "source": [
    "# split data table into data X and class labels y\n",
    "\n",
    "X = pca.iloc[:,0:5].values\n",
    "y = pca.iloc[:,5].values"
   ]
  },
  {
   "cell_type": "code",
   "execution_count": 5,
   "metadata": {},
   "outputs": [
    {
     "name": "stdout",
     "output_type": "stream",
     "text": [
      "Covariance matrix \n",
      "[[ 8.32173453e+16 -2.49248150e+07  1.22026843e+06  0.00000000e+00\n",
      "   1.62581241e+10 -4.72102064e+08  3.36573877e+08]\n",
      " [-2.49248150e+07  1.42394770e+02 -5.85400537e+00  0.00000000e+00\n",
      "  -3.43466542e+04  7.53907946e+01 -8.59303890e+01]\n",
      " [ 1.22026843e+06 -5.85400537e+00  2.47575687e-01  0.00000000e+00\n",
      "   1.43568821e+03 -6.08806414e+00  4.26522137e+00]\n",
      " [ 0.00000000e+00  0.00000000e+00  0.00000000e+00  0.00000000e+00\n",
      "   0.00000000e+00  0.00000000e+00  0.00000000e+00]\n",
      " [ 1.62581241e+10 -3.43466542e+04  1.43568821e+03  0.00000000e+00\n",
      "   2.51015632e+08  1.97046973e+05  5.37905158e+04]\n",
      " [-4.72102064e+08  7.53907946e+01 -6.08806414e+00  0.00000000e+00\n",
      "   1.97046973e+05  1.76619878e+05 -2.29475189e+02]\n",
      " [ 3.36573877e+08 -8.59303890e+01  4.26522137e+00  0.00000000e+00\n",
      "   5.37905158e+04 -2.29475189e+02  3.42761721e+04]]\n"
     ]
    }
   ],
   "source": [
    "# covariance matrix\n",
    "cov_pca = np.cov(np.transpose(pca))\n",
    "\n",
    "print('Covariance matrix \\n%s' %cov_pca)"
   ]
  },
  {
   "cell_type": "code",
   "execution_count": 6,
   "metadata": {},
   "outputs": [
    {
     "name": "stdout",
     "output_type": "stream",
     "text": [
      "Eigenvectors \n",
      "[[-1.00000000e+00 -1.95365798e-07  5.83440842e-09 -3.99224114e-09\n",
      "  -2.60548564e-10 -2.15874592e-12  0.00000000e+00]\n",
      " [ 2.99514662e-10 -1.36812845e-04  5.80680055e-04 -2.29403270e-03\n",
      "  -9.99155106e-01  4.10299429e-02  0.00000000e+00]\n",
      " [-1.46636308e-11  5.71862167e-06 -4.09155946e-05  1.15352257e-04\n",
      "   4.10297689e-02  9.99157917e-01  0.00000000e+00]\n",
      " [ 0.00000000e+00  0.00000000e+00  0.00000000e+00  0.00000000e+00\n",
      "   0.00000000e+00  0.00000000e+00  1.00000000e+00]\n",
      " [-1.95369416e-07  9.99999659e-01 -7.85440752e-04 -2.15866495e-04\n",
      "  -1.36893826e-04 -1.09225743e-07  0.00000000e+00]\n",
      " [ 5.67312094e-09  7.85928150e-04  9.99997722e-01  1.89874120e-03\n",
      "   5.77401427e-04  1.70156643e-05  0.00000000e+00]\n",
      " [-4.04451591e-09  2.14060590e-04 -1.89757808e-03  9.99995536e-01\n",
      "  -2.29796350e-03 -2.11635163e-05  0.00000000e+00]]\n",
      "\n",
      "Eigenvalues \n",
      "[8.32173453e+16 2.51012627e+08 1.76462834e+05 3.42629787e+04\n",
      " 1.37681642e+02 6.83014514e-03 0.00000000e+00]\n"
     ]
    }
   ],
   "source": [
    "# eigenvectors and eigenvalues \n",
    "\n",
    "eig_vals, eig_vecs = la.eig(cov_pca)\n",
    "\n",
    "print('Eigenvectors \\n%s' %eig_vecs)\n",
    "print('\\nEigenvalues \\n%s' %eig_vals)"
   ]
  },
  {
   "cell_type": "code",
   "execution_count": 7,
   "metadata": {},
   "outputs": [
    {
     "name": "stdout",
     "output_type": "stream",
     "text": [
      "Eigenvalues in descending order:\n",
      "8.321734527017043e+16\n",
      "251012627.05516118\n",
      "176462.83389586737\n",
      "34262.97873748524\n",
      "137.68164193163793\n",
      "0.0068301451392133086\n",
      "0.0\n"
     ]
    }
   ],
   "source": [
    "# Make a list of (eigenvalue, eigenvector) tuples\n",
    "eig_pairs = [(np.abs(eig_vals[i]), eig_vecs[:,i]) for i in range(len(eig_vals))]\n",
    "\n",
    "# Sort the (eigenvalue, eigenvector) tuples from high to low\n",
    "eig_pairs.sort()\n",
    "eig_pairs.reverse()\n",
    "\n",
    "# Visually confirm that the list is correctly sorted by decreasing eigenvalues\n",
    "print('Eigenvalues in descending order:')\n",
    "for i in eig_pairs:\n",
    "    print(i[0])"
   ]
  },
  {
   "cell_type": "code",
   "execution_count": 8,
   "metadata": {},
   "outputs": [
    {
     "name": "stdout",
     "output_type": "stream",
     "text": [
      "Matrix W:\n",
      " [[ 5.83440842e-09 -3.99224114e-09]\n",
      " [ 5.80680055e-04 -2.29403270e-03]\n",
      " [-4.09155946e-05  1.15352257e-04]\n",
      " [ 0.00000000e+00  0.00000000e+00]\n",
      " [-7.85440752e-04 -2.15866495e-04]\n",
      " [ 9.99997722e-01  1.89874120e-03]\n",
      " [-1.89757808e-03  9.99995536e-01]]\n"
     ]
    }
   ],
   "source": [
    "# principal components\n",
    "matrix_w = np.hstack((eig_pairs[2][1].reshape(7,1), \n",
    "                      eig_pairs[3][1].reshape(7,1)))\n",
    "\n",
    "print('Matrix W:\\n', matrix_w)"
   ]
  },
  {
   "cell_type": "code",
   "execution_count": 9,
   "metadata": {},
   "outputs": [],
   "source": [
    "Y = pca.dot(matrix_w)"
   ]
  },
  {
   "cell_type": "code",
   "execution_count": 10,
   "metadata": {},
   "outputs": [
    {
     "data": {
      "text/html": [
       "<div>\n",
       "<style scoped>\n",
       "    .dataframe tbody tr th:only-of-type {\n",
       "        vertical-align: middle;\n",
       "    }\n",
       "\n",
       "    .dataframe tbody tr th {\n",
       "        vertical-align: top;\n",
       "    }\n",
       "\n",
       "    .dataframe thead th {\n",
       "        text-align: right;\n",
       "    }\n",
       "</style>\n",
       "<table border=\"1\" class=\"dataframe\">\n",
       "  <thead>\n",
       "    <tr style=\"text-align: right;\">\n",
       "      <th></th>\n",
       "      <th>0</th>\n",
       "      <th>1</th>\n",
       "    </tr>\n",
       "  </thead>\n",
       "  <tbody>\n",
       "    <tr>\n",
       "      <th>0</th>\n",
       "      <td>1178.966978</td>\n",
       "      <td>591.743755</td>\n",
       "    </tr>\n",
       "    <tr>\n",
       "      <th>1</th>\n",
       "      <td>1186.971484</td>\n",
       "      <td>581.456336</td>\n",
       "    </tr>\n",
       "    <tr>\n",
       "      <th>2</th>\n",
       "      <td>1288.918120</td>\n",
       "      <td>609.649883</td>\n",
       "    </tr>\n",
       "    <tr>\n",
       "      <th>3</th>\n",
       "      <td>1321.925635</td>\n",
       "      <td>605.712559</td>\n",
       "    </tr>\n",
       "    <tr>\n",
       "      <th>4</th>\n",
       "      <td>1320.927535</td>\n",
       "      <td>604.710665</td>\n",
       "    </tr>\n",
       "    <tr>\n",
       "      <th>5</th>\n",
       "      <td>1311.941950</td>\n",
       "      <td>596.693396</td>\n",
       "    </tr>\n",
       "    <tr>\n",
       "      <th>6</th>\n",
       "      <td>1306.943859</td>\n",
       "      <td>595.683907</td>\n",
       "    </tr>\n",
       "    <tr>\n",
       "      <th>7</th>\n",
       "      <td>1305.949554</td>\n",
       "      <td>592.682021</td>\n",
       "    </tr>\n",
       "    <tr>\n",
       "      <th>8</th>\n",
       "      <td>1303.957149</td>\n",
       "      <td>588.678242</td>\n",
       "    </tr>\n",
       "    <tr>\n",
       "      <th>9</th>\n",
       "      <td>1301.049351</td>\n",
       "      <td>586.550994</td>\n",
       "    </tr>\n",
       "  </tbody>\n",
       "</table>\n",
       "</div>"
      ],
      "text/plain": [
       "             0           1\n",
       "0  1178.966978  591.743755\n",
       "1  1186.971484  581.456336\n",
       "2  1288.918120  609.649883\n",
       "3  1321.925635  605.712559\n",
       "4  1320.927535  604.710665\n",
       "5  1311.941950  596.693396\n",
       "6  1306.943859  595.683907\n",
       "7  1305.949554  592.682021\n",
       "8  1303.957149  588.678242\n",
       "9  1301.049351  586.550994"
      ]
     },
     "execution_count": 10,
     "metadata": {},
     "output_type": "execute_result"
    }
   ],
   "source": [
    "Y[0:10]"
   ]
  },
  {
   "cell_type": "code",
   "execution_count": 11,
   "metadata": {},
   "outputs": [
    {
     "data": {
      "text/plain": [
       "\"# Fixing random state for reproducibility\\nmatplotlib.rcParams['axes.unicode_minus'] = False\\nfig, ax = plt.subplots()\\nax.plot(Y, 'o')\\nax.set_title('Using hyphen instead of Unicode minus')\\nplt.show()\""
      ]
     },
     "execution_count": 11,
     "metadata": {},
     "output_type": "execute_result"
    }
   ],
   "source": [
    "'''# Fixing random state for reproducibility\n",
    "matplotlib.rcParams['axes.unicode_minus'] = False\n",
    "fig, ax = plt.subplots()\n",
    "ax.plot(Y, 'o')\n",
    "ax.set_title('Using hyphen instead of Unicode minus')\n",
    "plt.show()'''"
   ]
  }
 ],
 "metadata": {
  "kernelspec": {
   "display_name": "Python 3",
   "language": "python",
   "name": "python3"
  },
  "language_info": {
   "codemirror_mode": {
    "name": "ipython",
    "version": 3
   },
   "file_extension": ".py",
   "mimetype": "text/x-python",
   "name": "python",
   "nbconvert_exporter": "python",
   "pygments_lexer": "ipython3",
   "version": "3.6.4"
  }
 },
 "nbformat": 4,
 "nbformat_minor": 2
}
