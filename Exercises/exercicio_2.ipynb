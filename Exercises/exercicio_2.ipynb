{
 "cells": [
  {
   "cell_type": "markdown",
   "metadata": {
    "colab_type": "text",
    "id": "hDsk-mGMcUio"
   },
   "source": []
  },
  {
   "cell_type": "markdown",
   "metadata": {
    "colab_type": "text",
    "id": "VzTjPFgw-HN0"
   },
   "source": [
    "**1.   Criar uma função que receba duas matrizes 3 x 3 e multiplique um elemento pelo outro.**\n",
    "\n",
    "$\\begin{bmatrix}\n",
    "  1 & 2 & 3 \\\\\n",
    "  4 & 5 & 6 \\\\\n",
    "  7 & 8 & 9 \\\\\n",
    "\\end{bmatrix} *\n",
    "\\begin{bmatrix}\n",
    "  2 & 3 & 4 \\\\\n",
    "  2 & 3 & 4 \\\\\n",
    "  2 & 3 & 4 \\\\\n",
    "\\end{bmatrix} =\n",
    "\\begin{bmatrix}\n",
    "  2 & 6 & 12 \\\\\n",
    "  8 & 15 & 24 \\\\\n",
    "  14 & 24 & 36 \\\\\n",
    "\\end{bmatrix}$"
   ]
  },
  {
   "cell_type": "code",
   "execution_count": 12,
   "metadata": {
    "colab": {
     "autoexec": {
      "startup": false,
      "wait_interval": 0
     }
    },
    "colab_type": "code",
    "id": "rTGjAvZ5-1Jo"
   },
   "outputs": [
    {
     "name": "stdout",
     "output_type": "stream",
     "text": [
      "2\n",
      "6\n",
      "12\n",
      "8\n",
      "15\n",
      "24\n",
      "14\n",
      "24\n",
      "36\n"
     ]
    }
   ],
   "source": [
    "# Resposta do exercício 1\n",
    "import numpy as np\n",
    "\n",
    "def mult():\n",
    "    A = np.array([[1,2,3],[4,5,6],[7,8,9]])\n",
    "    B = np.array([[2,3,4],[2,3,4],[2,3,4]])\n",
    "\n",
    "    for i in range(3):\n",
    "        for j in range(3):\n",
    "            M = A[i][j] * B[i][j]\n",
    "            print(M)\n",
    "mult()"
   ]
  },
  {
   "cell_type": "markdown",
   "metadata": {
    "colab_type": "text",
    "id": "68KYWSvI-6Gn"
   },
   "source": [
    "**2.   Criar uma função que multiplique um array 1 x 4 pelo valor 5.**\n",
    "\n",
    "$\\begin{bmatrix}\n",
    "  1 & 2 & 3 & 4 \\\\\n",
    "\\end{bmatrix} *\n",
    "5 =\n",
    "\\begin{bmatrix}\n",
    "  5 & 10 & 15 & 20 \\\\  \n",
    "\\end{bmatrix}$\n"
   ]
  },
  {
   "cell_type": "code",
   "execution_count": 13,
   "metadata": {
    "colab": {
     "autoexec": {
      "startup": false,
      "wait_interval": 0
     }
    },
    "colab_type": "code",
    "id": "bhPNs3vm_bq2"
   },
   "outputs": [
    {
     "name": "stdout",
     "output_type": "stream",
     "text": [
      "5\n",
      "10\n",
      "15\n",
      "20\n"
     ]
    }
   ],
   "source": [
    "# Resposta do exercício 2\n",
    "def mult():\n",
    "    array = [1,2,3,4]\n",
    "    for i in range(4):\n",
    "        A = array[i] * 5\n",
    "        print(A)\n",
    "mult()"
   ]
  },
  {
   "cell_type": "markdown",
   "metadata": {
    "colab_type": "text",
    "id": "zO1PGwByXq-O"
   },
   "source": [
    "**3.   Criar uma rotina que receba uma martiz 5 x 5 e troque a primeira linha pela segunda **\n",
    "\n",
    "$\\begin{bmatrix}\n",
    "  1 & 2 & 3 & 4 & 5 \\\\\n",
    "  6 & 7 & 8 & 9 & 10\\\\\n",
    "  11 & 12 & 13 & 14 & 15\\\\\n",
    "  16 & 17 & 18 & 19 & 20\\\\\n",
    "  21 & 22 & 23 & 24 & 25\\\\\n",
    "\\end{bmatrix} < = >\n",
    "\\begin{bmatrix}\n",
    "  6 & 7 & 8 & 9 & 10\\\\\n",
    "  1 & 2 & 3 & 4 & 5 \\\\\n",
    "  11 & 12 & 13 & 14 & 15\\\\\n",
    "  16 & 17 & 18 & 19 & 20\\\\\n",
    "  21 & 22 & 23 & 24 & 25\\\\\n",
    "\\end{bmatrix}\n",
    "$"
   ]
  },
  {
   "cell_type": "code",
   "execution_count": 14,
   "metadata": {
    "colab": {
     "autoexec": {
      "startup": false,
      "wait_interval": 0
     }
    },
    "colab_type": "code",
    "id": "9bjqIboAX6EN"
   },
   "outputs": [
    {
     "name": "stdout",
     "output_type": "stream",
     "text": [
      "[[ 6  7  8  9 10]\n",
      " [ 1  2  3  4  5]\n",
      " [11 12 13 14 15]\n",
      " [16 17 18 19 20]\n",
      " [21 22 23 24 25]]\n"
     ]
    }
   ],
   "source": [
    "# Resposta do exercício 3\n",
    "import numpy as np\n",
    "\n",
    "def rotina(A):\n",
    "    A[0], A[1] = A[1], A[0]\n",
    "    return np.array(A)\n",
    "    \n",
    "A = [[1,2,3,4,5],\n",
    "     [6,7,8,9,10],\n",
    "     [11,12,13,14,15],\n",
    "     [16,17,18,19,20],\n",
    "     [21,22,23,24,25]]\n",
    "\n",
    "print(rotina(A))"
   ]
  },
  {
   "cell_type": "markdown",
   "metadata": {
    "colab_type": "text",
    "id": "NMGnuoXqECG8"
   },
   "source": [
    "**4.   Dada a tabela abaixo de vendas, vamos prever os 3 meses faltantes através de regressão linear. (utilizar apenas numpy e matlibplot) **\n",
    "\n",
    "\n",
    "\n",
    "<table style='border: 1px solid black;'>\n",
    "  <tr><th width='50px' align=\"left\">Mês</th><th width='100px' align=\"right\">Qtde. Cliente</th><th width='150px' align=\"right\">Total de Vendas(K)</th></tr>\n",
    "   <tr><td>Jan</td><td align=\"right\">730</td><td align=\"right\">9.85</td></tr>\n",
    "   <tr><td>Fev</td><td align=\"right\">880</td><td align=\"right\">10.20</td></tr>\n",
    "   <tr><td>Mar</td><td align=\"right\">505</td><td align=\"right\">6.44</td></tr>\n",
    "   <tr><td>Abr</td><td align=\"right\">529</td><td align=\"right\">7.07</td></tr>\n",
    "   <tr><td>Mai</td><td align=\"right\">872</td><td align=\"right\">9.91</td></tr>\n",
    "   <tr><td>Jun</td><td align=\"right\">907</td><td align=\"right\">11.20</td></tr>\n",
    "   <tr><td>Jul</td><td align=\"right\">926</td><td align=\"right\">11.03</td></tr>\n",
    "   <tr><td>Ago</td><td align=\"right\">679</td><td align=\"right\">7.24</td></tr>\n",
    "   <tr><td>Set</td><td align=\"right\">452</td><td align=\"right\">9.43</td></tr>  \n",
    "</table>\n",
    "\n",
    "<br>\n",
    "\n",
    "O objetivo desse cálculo é prever os valores de uma variável dependente (Y) com base em resultados da variável independente (X).\n",
    "\n",
    "Gostaríamos de prever os totais de vendas para os meses de Out, Nov e Dez, caso meus clientes sejam 500, 750, 1000 respectivamente.\n",
    "\n",
    "\n",
    "A fórmula da regressão linear é:\n",
    "\n",
    "$\n",
    "\\begin{equation*}\n",
    "Y = a + bX\n",
    "\\end{equation*}\n",
    "$\n",
    "\n",
    "onde,\n",
    "\n",
    "$X$ = Qtde. de Clientes que vamos prever\n",
    "\n",
    "$Y$ = Total de Vendas previsto\n",
    "\n",
    "$a$ e $b$ = São os dois coeficientes de regressão, necessários para fazermos a reta de regressão. \n",
    "\n",
    "\\\\\n",
    "\n",
    "**Fórmulas:**\n",
    "\n",
    "\\\\\n",
    "Para calcular **a**:\n",
    "\n",
    "\n",
    "$\n",
    "\\begin{equation*}\n",
    "a = \\overline{y} -b \\, \\overline{x}\n",
    "\\end{equation*}\n",
    "$\n",
    "\n",
    "Para calcular **b**:\n",
    "\n",
    "\n",
    "$\n",
    "\\begin{align}\n",
    "b = \\frac{ \\sum xy  -n \\: \\overline{xy}}{\\sum x^2 - n \\: \\overline{x} ^2}\n",
    "\\end{align}\n",
    "$\n",
    "\n",
    "\n",
    "onde:\n",
    "\n",
    "$x$ = Qtde. de Clientes dos meses conhecidos\n",
    "\n",
    "$y$ = Total de Vendas dos meses conhecidos\n",
    "\n",
    "$n$ = Qtde. de meses\n",
    "\n",
    "$\n",
    "\\begin{align}\n",
    "\\overline{x} \\end{align} $ = média de $x$\n",
    "\n",
    "$\n",
    "\\begin{align}\n",
    "\\overline{y} \\end{align} $ = média de $y$\n",
    "\n"
   ]
  },
  {
   "cell_type": "code",
   "execution_count": 15,
   "metadata": {},
   "outputs": [
    {
     "name": "stderr",
     "output_type": "stream",
     "text": [
      "C:\\Users\\Rayza\\Anaconda3\\lib\\site-packages\\ipykernel_launcher.py:16: FutureWarning: `rcond` parameter will change to the default of machine precision times ``max(M, N)`` where M and N are the input matrix dimensions.\n",
      "To use the future default and silence this warning we advise to pass `rcond=None`, to keep using the old, explicitly pass `rcond=-1`.\n",
      "  app.launch_new_instance()\n"
     ]
    },
    {
     "name": "stdout",
     "output_type": "stream",
     "text": [
      "0.0072386870618228105 3.940367537709791\n",
      "[[730.   1.]\n",
      " [880.   1.]\n",
      " [505.   1.]\n",
      " [529.   1.]\n",
      " [872.   1.]\n",
      " [907.   1.]\n",
      " [926.   1.]\n",
      " [679.   1.]\n",
      " [452.   1.]]\n"
     ]
    },
    {
     "data": {
      "image/png": "[encoded data removed]",
      "text/plain": [
       "<matplotlib.figure.Figure at 0x2ba8205a3c8>"
      ]
     },
     "metadata": {},
     "output_type": "display_data"
    },
    {
     "name": "stdout",
     "output_type": "stream",
     "text": [
      "Previsão Outubro(K)->  7.559711068621196\n",
      "Previsão Novembro(K) ->  9.369382834076898\n",
      "Previsão Dezembro(K) ->  11.179054599532602\n"
     ]
    }
   ],
   "source": [
    "# Resposta do exercício 4\n",
    "import numpy as np\n",
    "import matplotlib\n",
    "import matplotlib.pyplot as plt\n",
    "\n",
    "mes = ['jan', 'fev', 'mar', 'abr', 'mai', 'jun','jul', 'ago', 'set']\n",
    "client = [730,880,505,529,872,907,926,679,452]\n",
    "vend = [9.85,10.20,6.44,7.07,9.91,11.20,11.03,7.24,9.43]\n",
    "\n",
    "x = np.array(client)\n",
    "\n",
    "y = np.array(vend)\n",
    "\n",
    "A = np.vstack([x, np.ones(len(x))]).T\n",
    "\n",
    "m, c = np.linalg.lstsq(A, y)[0]\n",
    "\n",
    "print(m,c)\n",
    "\n",
    "print(A)\n",
    "\n",
    "plt.plot(x,y, 'o', label='Amostra')\n",
    "plt.plot(x, m*x + c, 'r', label='reta')\n",
    "plt.legend()\n",
    "plt.show()\n",
    "\n",
    "print('Previsão Outubro(K)-> ', m*500+c)\n",
    "print('Previsão Novembro(K) -> ', m*750+c)\n",
    "print('Previsão Dezembro(K) -> ', m*1000+c)"
   ]
  }
 ],
 "metadata": {
  "colab": {
   "collapsed_sections": [],
   "default_view": {},
   "name": "exercicio_2.ipynb",
   "provenance": [
    {
     "file_id": "17nCQmxOu4Xv0LmsnnCc3xVoVBKd1A1pB",
     "timestamp": 1517490083741
    }
   ],
   "version": "0.3.2",
   "views": {}
  },
  "kernelspec": {
   "display_name": "Python 3",
   "language": "python",
   "name": "python3"
  },
  "language_info": {
   "codemirror_mode": {
    "name": "ipython",
    "version": 3
   },
   "file_extension": ".py",
   "mimetype": "text/x-python",
   "name": "python",
   "nbconvert_exporter": "python",
   "pygments_lexer": "ipython3",
   "version": "3.6.4"
  }
 },
 "nbformat": 4,
 "nbformat_minor": 1
}
